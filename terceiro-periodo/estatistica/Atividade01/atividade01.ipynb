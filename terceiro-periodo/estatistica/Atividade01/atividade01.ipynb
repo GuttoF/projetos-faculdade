{
 "cells": [
  {
   "cell_type": "code",
   "execution_count": 21,
   "metadata": {},
   "outputs": [],
   "source": [
    "# import data\n",
    "import pandas as pd\n",
    "\n",
    "# settings\n",
    "\n",
    "# round\n",
    "pd.options.display.float_format = '{:.2f}'.format"
   ]
  },
  {
   "cell_type": "code",
   "execution_count": 22,
   "metadata": {},
   "outputs": [],
   "source": [
    "# read data from a xlsx file\n",
    "df = pd.read_excel('data.xlsx', sheet_name='Dirty 8')"
   ]
  },
  {
   "cell_type": "code",
   "execution_count": 23,
   "metadata": {},
   "outputs": [],
   "source": [
    "def split_rows(row):\n",
    "    categories = row['Category'].split(' | ')\n",
    "    amounts = row['Amount'].split(' | ')\n",
    "    return pd.DataFrame({\n",
    "        'Order ID': [row['Order ID']] * len(categories),\n",
    "        'Category': categories,\n",
    "        'Amount': amounts\n",
    "    })\n",
    "\n",
    "transformed_df = pd.concat([split_rows(row) for _, row in df.iterrows()], ignore_index=True)"
   ]
  },
  {
   "cell_type": "code",
   "execution_count": 24,
   "metadata": {},
   "outputs": [
    {
     "data": {
      "text/html": [
       "<div>\n",
       "<style scoped>\n",
       "    .dataframe tbody tr th:only-of-type {\n",
       "        vertical-align: middle;\n",
       "    }\n",
       "\n",
       "    .dataframe tbody tr th {\n",
       "        vertical-align: top;\n",
       "    }\n",
       "\n",
       "    .dataframe thead th {\n",
       "        text-align: right;\n",
       "    }\n",
       "</style>\n",
       "<table border=\"1\" class=\"dataframe\">\n",
       "  <thead>\n",
       "    <tr style=\"text-align: right;\">\n",
       "      <th></th>\n",
       "      <th>Order ID</th>\n",
       "      <th>Category</th>\n",
       "      <th>Amount</th>\n",
       "    </tr>\n",
       "  </thead>\n",
       "  <tbody>\n",
       "    <tr>\n",
       "      <th>0</th>\n",
       "      <td>CA-2011-167199</td>\n",
       "      <td>Binders</td>\n",
       "      <td>609.98</td>\n",
       "    </tr>\n",
       "    <tr>\n",
       "      <th>1</th>\n",
       "      <td>CA-2011-167199</td>\n",
       "      <td>Art</td>\n",
       "      <td>5.48</td>\n",
       "    </tr>\n",
       "    <tr>\n",
       "      <th>2</th>\n",
       "      <td>CA-2011-167199</td>\n",
       "      <td>Phones</td>\n",
       "      <td>391.98</td>\n",
       "    </tr>\n",
       "    <tr>\n",
       "      <th>3</th>\n",
       "      <td>CA-2011-167199</td>\n",
       "      <td>Fasteners</td>\n",
       "      <td>755.96</td>\n",
       "    </tr>\n",
       "    <tr>\n",
       "      <th>4</th>\n",
       "      <td>CA-2011-167199</td>\n",
       "      <td>Paper</td>\n",
       "      <td>31.12</td>\n",
       "    </tr>\n",
       "    <tr>\n",
       "      <th>5</th>\n",
       "      <td>CA-2011-149020</td>\n",
       "      <td>Office Supplies</td>\n",
       "      <td>2.98</td>\n",
       "    </tr>\n",
       "    <tr>\n",
       "      <th>6</th>\n",
       "      <td>CA-2011-149020</td>\n",
       "      <td>Furniture</td>\n",
       "      <td>51.94</td>\n",
       "    </tr>\n",
       "    <tr>\n",
       "      <th>7</th>\n",
       "      <td>CA-2011-131905</td>\n",
       "      <td>Office Supplies</td>\n",
       "      <td>7.2</td>\n",
       "    </tr>\n",
       "    <tr>\n",
       "      <th>8</th>\n",
       "      <td>CA-2011-131905</td>\n",
       "      <td>Technology</td>\n",
       "      <td>42.0186</td>\n",
       "    </tr>\n",
       "    <tr>\n",
       "      <th>9</th>\n",
       "      <td>CA-2011-131905</td>\n",
       "      <td>Technology</td>\n",
       "      <td>42.035</td>\n",
       "    </tr>\n",
       "    <tr>\n",
       "      <th>10</th>\n",
       "      <td>CA-2011-127614</td>\n",
       "      <td>Accessories</td>\n",
       "      <td>234.45</td>\n",
       "    </tr>\n",
       "    <tr>\n",
       "      <th>11</th>\n",
       "      <td>CA-2011-127614</td>\n",
       "      <td>Tables</td>\n",
       "      <td>1256.22</td>\n",
       "    </tr>\n",
       "    <tr>\n",
       "      <th>12</th>\n",
       "      <td>CA-2011-127614</td>\n",
       "      <td>Binders</td>\n",
       "      <td>17.46</td>\n",
       "    </tr>\n",
       "  </tbody>\n",
       "</table>\n",
       "</div>"
      ],
      "text/plain": [
       "          Order ID         Category   Amount\n",
       "0   CA-2011-167199          Binders   609.98\n",
       "1   CA-2011-167199              Art     5.48\n",
       "2   CA-2011-167199           Phones   391.98\n",
       "3   CA-2011-167199        Fasteners   755.96\n",
       "4   CA-2011-167199            Paper    31.12\n",
       "5   CA-2011-149020  Office Supplies     2.98\n",
       "6   CA-2011-149020        Furniture    51.94\n",
       "7   CA-2011-131905  Office Supplies      7.2\n",
       "8   CA-2011-131905       Technology  42.0186\n",
       "9   CA-2011-131905       Technology   42.035\n",
       "10  CA-2011-127614      Accessories   234.45\n",
       "11  CA-2011-127614           Tables  1256.22\n",
       "12  CA-2011-127614          Binders    17.46"
      ]
     },
     "execution_count": 24,
     "metadata": {},
     "output_type": "execute_result"
    }
   ],
   "source": [
    "transformed_df"
   ]
  },
  {
   "cell_type": "code",
   "execution_count": 25,
   "metadata": {},
   "outputs": [
    {
     "data": {
      "text/plain": [
       "Order ID    object\n",
       "Category    object\n",
       "Amount      object\n",
       "dtype: object"
      ]
     },
     "execution_count": 25,
     "metadata": {},
     "output_type": "execute_result"
    }
   ],
   "source": [
    "transformed_df.dtypes"
   ]
  },
  {
   "cell_type": "code",
   "execution_count": 27,
   "metadata": {},
   "outputs": [],
   "source": [
    "# transfomr object to float\n",
    "transformed_df['Amount'] = transformed_df['Amount'].astype(float)"
   ]
  },
  {
   "cell_type": "code",
   "execution_count": 28,
   "metadata": {},
   "outputs": [
    {
     "data": {
      "text/plain": [
       "Order ID     object\n",
       "Category     object\n",
       "Amount      float64\n",
       "dtype: object"
      ]
     },
     "execution_count": 28,
     "metadata": {},
     "output_type": "execute_result"
    }
   ],
   "source": [
    "transformed_df.dtypes"
   ]
  },
  {
   "cell_type": "code",
   "execution_count": 29,
   "metadata": {},
   "outputs": [
    {
     "data": {
      "text/html": [
       "<div>\n",
       "<style scoped>\n",
       "    .dataframe tbody tr th:only-of-type {\n",
       "        vertical-align: middle;\n",
       "    }\n",
       "\n",
       "    .dataframe tbody tr th {\n",
       "        vertical-align: top;\n",
       "    }\n",
       "\n",
       "    .dataframe thead th {\n",
       "        text-align: right;\n",
       "    }\n",
       "</style>\n",
       "<table border=\"1\" class=\"dataframe\">\n",
       "  <thead>\n",
       "    <tr style=\"text-align: right;\">\n",
       "      <th></th>\n",
       "      <th>Order ID</th>\n",
       "      <th>Category</th>\n",
       "      <th>Amount</th>\n",
       "    </tr>\n",
       "  </thead>\n",
       "  <tbody>\n",
       "    <tr>\n",
       "      <th>0</th>\n",
       "      <td>CA-2011-167199</td>\n",
       "      <td>Binders</td>\n",
       "      <td>609.98</td>\n",
       "    </tr>\n",
       "    <tr>\n",
       "      <th>1</th>\n",
       "      <td>CA-2011-167199</td>\n",
       "      <td>Art</td>\n",
       "      <td>5.48</td>\n",
       "    </tr>\n",
       "    <tr>\n",
       "      <th>2</th>\n",
       "      <td>CA-2011-167199</td>\n",
       "      <td>Phones</td>\n",
       "      <td>391.98</td>\n",
       "    </tr>\n",
       "    <tr>\n",
       "      <th>3</th>\n",
       "      <td>CA-2011-167199</td>\n",
       "      <td>Fasteners</td>\n",
       "      <td>755.96</td>\n",
       "    </tr>\n",
       "    <tr>\n",
       "      <th>4</th>\n",
       "      <td>CA-2011-167199</td>\n",
       "      <td>Paper</td>\n",
       "      <td>31.12</td>\n",
       "    </tr>\n",
       "    <tr>\n",
       "      <th>5</th>\n",
       "      <td>CA-2011-149020</td>\n",
       "      <td>Office Supplies</td>\n",
       "      <td>2.98</td>\n",
       "    </tr>\n",
       "    <tr>\n",
       "      <th>6</th>\n",
       "      <td>CA-2011-149020</td>\n",
       "      <td>Furniture</td>\n",
       "      <td>51.94</td>\n",
       "    </tr>\n",
       "    <tr>\n",
       "      <th>7</th>\n",
       "      <td>CA-2011-131905</td>\n",
       "      <td>Office Supplies</td>\n",
       "      <td>7.20</td>\n",
       "    </tr>\n",
       "    <tr>\n",
       "      <th>8</th>\n",
       "      <td>CA-2011-131905</td>\n",
       "      <td>Technology</td>\n",
       "      <td>42.02</td>\n",
       "    </tr>\n",
       "    <tr>\n",
       "      <th>9</th>\n",
       "      <td>CA-2011-131905</td>\n",
       "      <td>Technology</td>\n",
       "      <td>42.03</td>\n",
       "    </tr>\n",
       "    <tr>\n",
       "      <th>10</th>\n",
       "      <td>CA-2011-127614</td>\n",
       "      <td>Accessories</td>\n",
       "      <td>234.45</td>\n",
       "    </tr>\n",
       "    <tr>\n",
       "      <th>11</th>\n",
       "      <td>CA-2011-127614</td>\n",
       "      <td>Tables</td>\n",
       "      <td>1256.22</td>\n",
       "    </tr>\n",
       "    <tr>\n",
       "      <th>12</th>\n",
       "      <td>CA-2011-127614</td>\n",
       "      <td>Binders</td>\n",
       "      <td>17.46</td>\n",
       "    </tr>\n",
       "  </tbody>\n",
       "</table>\n",
       "</div>"
      ],
      "text/plain": [
       "          Order ID         Category  Amount\n",
       "0   CA-2011-167199          Binders  609.98\n",
       "1   CA-2011-167199              Art    5.48\n",
       "2   CA-2011-167199           Phones  391.98\n",
       "3   CA-2011-167199        Fasteners  755.96\n",
       "4   CA-2011-167199            Paper   31.12\n",
       "5   CA-2011-149020  Office Supplies    2.98\n",
       "6   CA-2011-149020        Furniture   51.94\n",
       "7   CA-2011-131905  Office Supplies    7.20\n",
       "8   CA-2011-131905       Technology   42.02\n",
       "9   CA-2011-131905       Technology   42.03\n",
       "10  CA-2011-127614      Accessories  234.45\n",
       "11  CA-2011-127614           Tables 1256.22\n",
       "12  CA-2011-127614          Binders   17.46"
      ]
     },
     "execution_count": 29,
     "metadata": {},
     "output_type": "execute_result"
    }
   ],
   "source": [
    "transformed_df"
   ]
  },
  {
   "cell_type": "code",
   "execution_count": null,
   "metadata": {},
   "outputs": [],
   "source": []
  }
 ],
 "metadata": {
  "kernelspec": {
   "display_name": ".venv",
   "language": "python",
   "name": "python3"
  },
  "language_info": {
   "codemirror_mode": {
    "name": "ipython",
    "version": 3
   },
   "file_extension": ".py",
   "mimetype": "text/x-python",
   "name": "python",
   "nbconvert_exporter": "python",
   "pygments_lexer": "ipython3",
   "version": "3.11.8"
  }
 },
 "nbformat": 4,
 "nbformat_minor": 2
}
