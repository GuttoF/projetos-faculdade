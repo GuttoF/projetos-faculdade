{
 "cells": [
  {
   "cell_type": "markdown",
   "metadata": {},
   "source": [
    "# Atividade 03"
   ]
  },
  {
   "cell_type": "code",
   "execution_count": 18,
   "metadata": {},
   "outputs": [],
   "source": [
    "from Class.EstatisticaDescritiva import EstatisticaDescritiva"
   ]
  },
  {
   "cell_type": "markdown",
   "metadata": {},
   "source": [
    "## 1. Para cada conjunto de dados encontre a média, a mediana e a moda. e discuta os fatos que afetam cada estatística, como medida de tendência central."
   ]
  },
  {
   "cell_type": "markdown",
   "metadata": {},
   "source": [
    "### a. Ausências [0, 0, 0, 0, 0, 1, 2, 3, 3, 5, 5, 15]"
   ]
  },
  {
   "cell_type": "code",
   "execution_count": 19,
   "metadata": {},
   "outputs": [],
   "source": [
    "data = [0, 0, 0, 0, 0, 1, 2, 3, 3, 5, 5, 15]\n",
    "primeiro = EstatisticaDescritiva(data)"
   ]
  },
  {
   "cell_type": "code",
   "execution_count": 20,
   "metadata": {},
   "outputs": [
    {
     "data": {
      "text/plain": [
       "[0, 0, 0, 0, 0, 1, 2, 3, 3, 5, 5, 15]"
      ]
     },
     "execution_count": 20,
     "metadata": {},
     "output_type": "execute_result"
    }
   ],
   "source": [
    "primeiro.order_list()"
   ]
  },
  {
   "cell_type": "code",
   "execution_count": 21,
   "metadata": {},
   "outputs": [
    {
     "name": "stdout",
     "output_type": "stream",
     "text": [
      "Cálculo da média:\n",
      "1. Soma dos números: 34\n",
      "2. Quantidade de números: 12\n",
      "3. Média (soma / quantidade): 2.833\n"
     ]
    },
    {
     "data": {
      "text/plain": [
       "2.833"
      ]
     },
     "execution_count": 21,
     "metadata": {},
     "output_type": "execute_result"
    }
   ],
   "source": [
    "primeiro.mean()"
   ]
  },
  {
   "cell_type": "code",
   "execution_count": 22,
   "metadata": {},
   "outputs": [
    {
     "name": "stdout",
     "output_type": "stream",
     "text": [
      "Cálculo da mediana:\n",
      "1. Quantidade par de elementos\n",
      "2. Elementos do meio: 1 e 2\n",
      "3. Média dos elementos do meio: 1.5\n"
     ]
    },
    {
     "data": {
      "text/plain": [
       "1.5"
      ]
     },
     "execution_count": 22,
     "metadata": {},
     "output_type": "execute_result"
    }
   ],
   "source": [
    "primeiro.median()"
   ]
  },
  {
   "cell_type": "code",
   "execution_count": 23,
   "metadata": {},
   "outputs": [
    {
     "name": "stdout",
     "output_type": "stream",
     "text": [
      "Cálculo da moda:\n",
      "1. Frequências: {0: 5, 1: 1, 2: 1, 3: 2, 5: 2, 15: 1}\n",
      "2. Maior frequência: 5\n",
      "3. Moda: [0] (número(s) com maior frequência)\n"
     ]
    },
    {
     "data": {
      "text/plain": [
       "[0]"
      ]
     },
     "execution_count": 23,
     "metadata": {},
     "output_type": "execute_result"
    }
   ],
   "source": [
    "primeiro.mode()"
   ]
  },
  {
   "cell_type": "markdown",
   "metadata": {},
   "source": [
    "- Média: A média é sensível a valores extremos (outliers) como podemos observar nesse conjunto de dados. O valor 15 puxa a média para cima, o que pode não ser representativo da tendência central do conjunto de dados como um todo, considerando a quantidade de zeros.\n",
    "\n",
    "- Mediana: A mediana é menos sensível a valores extremos e oferece uma medida mais robusta da tendência central para este conjunto de dados. Ela mostra que metade das observações tem poucas ausências, independente do valor extremo presente.\n",
    "\n",
    "- Moda: A moda, sendo o valor mais frequente, mostra diretamente a ausência mais comum registrada. No caso, o valor 0 indica que a maioria das observações não teve ausências, o que pode ser uma indicação de boa assiduidade ou de um sistema de registro de ausências que favorece o valor zero.\n",
    "\n",
    "Cada uma dessas medidas de tendência central oferece uma perspectiva diferente sobre o conjunto de dados, e sua utilidade pode variar dependendo da natureza dos dados e do contexto em que estão sendo analisados."
   ]
  },
  {
   "cell_type": "markdown",
   "metadata": {},
   "source": [
    "### b. Notas nos exames [40, 40, 65, 71, 72, 75, 76, 78, 98]"
   ]
  },
  {
   "cell_type": "code",
   "execution_count": 24,
   "metadata": {},
   "outputs": [],
   "source": [
    "data = [40, 40, 65, 71, 72, 75, 76, 78, 98]\n",
    "primeiro = EstatisticaDescritiva(data)"
   ]
  },
  {
   "cell_type": "code",
   "execution_count": 25,
   "metadata": {},
   "outputs": [
    {
     "data": {
      "text/plain": [
       "[40, 40, 65, 71, 72, 75, 76, 78, 98]"
      ]
     },
     "execution_count": 25,
     "metadata": {},
     "output_type": "execute_result"
    }
   ],
   "source": [
    "primeiro.order_list()"
   ]
  },
  {
   "cell_type": "code",
   "execution_count": 26,
   "metadata": {},
   "outputs": [
    {
     "name": "stdout",
     "output_type": "stream",
     "text": [
      "Cálculo da média:\n",
      "1. Soma dos números: 615\n",
      "2. Quantidade de números: 9\n",
      "3. Média (soma / quantidade): 68.333\n"
     ]
    },
    {
     "data": {
      "text/plain": [
       "68.333"
      ]
     },
     "execution_count": 26,
     "metadata": {},
     "output_type": "execute_result"
    }
   ],
   "source": [
    "primeiro.mean()"
   ]
  },
  {
   "cell_type": "code",
   "execution_count": 27,
   "metadata": {},
   "outputs": [
    {
     "name": "stdout",
     "output_type": "stream",
     "text": [
      "Cálculo da mediana:\n",
      "1. Quantidade ímpar de elementos\n",
      "2. Elemento do meio (posição 4): 72\n"
     ]
    },
    {
     "data": {
      "text/plain": [
       "72"
      ]
     },
     "execution_count": 27,
     "metadata": {},
     "output_type": "execute_result"
    }
   ],
   "source": [
    "primeiro.median()"
   ]
  },
  {
   "cell_type": "code",
   "execution_count": 28,
   "metadata": {},
   "outputs": [
    {
     "name": "stdout",
     "output_type": "stream",
     "text": [
      "Cálculo da moda:\n",
      "1. Frequências: {40: 2, 65: 1, 71: 1, 72: 1, 75: 1, 76: 1, 78: 1, 98: 1}\n",
      "2. Maior frequência: 2\n",
      "3. Moda: [40] (número(s) com maior frequência)\n"
     ]
    },
    {
     "data": {
      "text/plain": [
       "[40]"
      ]
     },
     "execution_count": 28,
     "metadata": {},
     "output_type": "execute_result"
    }
   ],
   "source": [
    "primeiro.mode()"
   ]
  },
  {
   "cell_type": "markdown",
   "metadata": {},
   "source": [
    "- Média: A média é moderadamente influenciada pelos extremos no conjunto de dados, especialmente pela nota mais alta de 98, que eleva a média. Isso pode dar a impressão de que as notas são geralmente mais altas do que a moda sugere.\n",
    "\n",
    "- Mediana: A mediana fornece um ponto médio no conjunto de notas, oferecendo uma visão talvez mais realista da tendência central das notas dos alunos, não sendo afetada pela nota muito alta ou as muito baixas.\n",
    "\n",
    "- Moda: A moda revela que há uma concentração de notas no extremo inferior da escala, o que pode ser uma preocupação se o objetivo for avaliar a proficiência geral do grupo. A existência de uma moda de 40 sugere que uma parte significativa dos estudantes teve dificuldades, enquanto a mediana e a média mais altas indicam que muitos outros tiveram um desempenho razoavelmente bom.\n",
    "\n",
    "Neste caso, a discrepância entre a moda e as outras medidas de tendência central destaca a importância de olhar para todas essas medidas em conjunto para entender melhor a distribuição das notas dos exames e identificar possíveis áreas de melhoria no ensino ou no desempenho dos alunos."
   ]
  },
  {
   "cell_type": "markdown",
   "metadata": {},
   "source": [
    "### c. GPAs [2.25, 2.55, 2.95, 3.02, 3.04, 3.37, 3.51, 3.66]"
   ]
  },
  {
   "cell_type": "code",
   "execution_count": 29,
   "metadata": {},
   "outputs": [],
   "source": [
    "data = [2.25, 2.55, 2.95, 3.02, 3.04, 3.37, 3.51, 3.66] \n",
    "primeiro = EstatisticaDescritiva(data)"
   ]
  },
  {
   "cell_type": "code",
   "execution_count": 30,
   "metadata": {},
   "outputs": [
    {
     "data": {
      "text/plain": [
       "[2.25, 2.55, 2.95, 3.02, 3.04, 3.37, 3.51, 3.66]"
      ]
     },
     "execution_count": 30,
     "metadata": {},
     "output_type": "execute_result"
    }
   ],
   "source": [
    "primeiro.order_list()"
   ]
  },
  {
   "cell_type": "code",
   "execution_count": 31,
   "metadata": {},
   "outputs": [
    {
     "name": "stdout",
     "output_type": "stream",
     "text": [
      "Cálculo da média:\n",
      "1. Soma dos números: 24.349999999999998\n",
      "2. Quantidade de números: 8\n",
      "3. Média (soma / quantidade): 3.044\n"
     ]
    },
    {
     "data": {
      "text/plain": [
       "3.044"
      ]
     },
     "execution_count": 31,
     "metadata": {},
     "output_type": "execute_result"
    }
   ],
   "source": [
    "primeiro.mean()"
   ]
  },
  {
   "cell_type": "code",
   "execution_count": 32,
   "metadata": {},
   "outputs": [
    {
     "name": "stdout",
     "output_type": "stream",
     "text": [
      "Cálculo da mediana:\n",
      "1. Quantidade par de elementos\n",
      "2. Elementos do meio: 3.02 e 3.04\n",
      "3. Média dos elementos do meio: 3.03\n"
     ]
    },
    {
     "data": {
      "text/plain": [
       "3.03"
      ]
     },
     "execution_count": 32,
     "metadata": {},
     "output_type": "execute_result"
    }
   ],
   "source": [
    "primeiro.median()"
   ]
  },
  {
   "cell_type": "code",
   "execution_count": 33,
   "metadata": {},
   "outputs": [
    {
     "name": "stdout",
     "output_type": "stream",
     "text": [
      "Cálculo da moda:\n",
      "1. Frequências: {2.25: 1, 2.55: 1, 2.95: 1, 3.02: 1, 3.04: 1, 3.37: 1, 3.51: 1, 3.66: 1}\n",
      "2. Maior frequência: 1\n",
      "3. Moda: [2.25, 2.55, 2.95, 3.02, 3.04, 3.37, 3.51, 3.66] (número(s) com maior frequência)\n"
     ]
    },
    {
     "data": {
      "text/plain": [
       "[2.25, 2.55, 2.95, 3.02, 3.04, 3.37, 3.51, 3.66]"
      ]
     },
     "execution_count": 33,
     "metadata": {},
     "output_type": "execute_result"
    }
   ],
   "source": [
    "primeiro.mode()"
   ]
  },
  {
   "cell_type": "markdown",
   "metadata": {},
   "source": [
    "- Média e Mediana: A proximidade da média e da mediana indica uma distribuição relativamente simétrica dos GPAs. Não há valores extremamente baixos ou altos que distorçam significativamente a média, mostrando um agrupamento consistente em torno do centro da distribuição.\n",
    "\n",
    "- Moda: A ausência de uma moda distinta (cada GPA é único) destaca a variedade de desempenho acadêmico dentro do grupo, mas também significa que não há uma concentração particular de estudantes em torno de um determinado GPA.\n",
    "\n",
    "Este conjunto de dados mostra um grupo com uma distribuição de desempenho bastante homogênea e sem grandes variações, o que é refletido pela proximidade dos valores da média e da mediana. A falta de uma moda clara, por outro lado, indica diversidade no desempenho acadêmico, mas sem um GPA que se destaque como o mais comum entre os estudantes. "
   ]
  },
  {
   "cell_type": "markdown",
   "metadata": {},
   "source": [
    "## 2."
   ]
  },
  {
   "cell_type": "code",
   "execution_count": null,
   "metadata": {},
   "outputs": [],
   "source": []
  },
  {
   "cell_type": "code",
   "execution_count": null,
   "metadata": {},
   "outputs": [],
   "source": []
  },
  {
   "cell_type": "code",
   "execution_count": null,
   "metadata": {},
   "outputs": [],
   "source": []
  },
  {
   "cell_type": "code",
   "execution_count": null,
   "metadata": {},
   "outputs": [],
   "source": []
  },
  {
   "cell_type": "code",
   "execution_count": null,
   "metadata": {},
   "outputs": [],
   "source": []
  },
  {
   "cell_type": "code",
   "execution_count": null,
   "metadata": {},
   "outputs": [],
   "source": []
  },
  {
   "cell_type": "code",
   "execution_count": null,
   "metadata": {},
   "outputs": [],
   "source": []
  }
 ],
 "metadata": {
  "kernelspec": {
   "display_name": ".venv",
   "language": "python",
   "name": "python3"
  },
  "language_info": {
   "codemirror_mode": {
    "name": "ipython",
    "version": 3
   },
   "file_extension": ".py",
   "mimetype": "text/x-python",
   "name": "python",
   "nbconvert_exporter": "python",
   "pygments_lexer": "ipython3",
   "version": "3.11.8"
  }
 },
 "nbformat": 4,
 "nbformat_minor": 2
}
