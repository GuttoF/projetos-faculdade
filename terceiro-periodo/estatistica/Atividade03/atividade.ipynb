{
 "cells": [
  {
   "cell_type": "markdown",
   "metadata": {},
   "source": [
    "# Atividade 03"
   ]
  },
  {
   "cell_type": "markdown",
   "metadata": {},
   "source": [
    "## 0. Import"
   ]
  },
  {
   "cell_type": "code",
   "execution_count": 1,
   "metadata": {},
   "outputs": [],
   "source": [
    "from Class.EstatisticaDescritiva import EstatisticaDescritiva"
   ]
  },
  {
   "cell_type": "markdown",
   "metadata": {},
   "source": [
    "## 1. Para cada conjunto de dados encontre a média, a mediana e a moda. e discuta os fatos que afetam cada estatística, como medida de tendência central."
   ]
  },
  {
   "cell_type": "markdown",
   "metadata": {},
   "source": [
    "### a. Ausências [0, 0, 0, 0, 0, 1, 2, 3, 3, 5, 5, 15]"
   ]
  },
  {
   "cell_type": "code",
   "execution_count": 2,
   "metadata": {},
   "outputs": [],
   "source": [
    "data = [0, 0, 0, 0, 0, 1, 2, 3, 3, 5, 5, 15]\n",
    "questao = EstatisticaDescritiva(data)"
   ]
  },
  {
   "cell_type": "code",
   "execution_count": 3,
   "metadata": {},
   "outputs": [
    {
     "data": {
      "text/plain": [
       "[0, 0, 0, 0, 0, 1, 2, 3, 3, 5, 5, 15]"
      ]
     },
     "execution_count": 3,
     "metadata": {},
     "output_type": "execute_result"
    }
   ],
   "source": [
    "questao.order_list()"
   ]
  },
  {
   "cell_type": "code",
   "execution_count": 4,
   "metadata": {},
   "outputs": [
    {
     "name": "stdout",
     "output_type": "stream",
     "text": [
      "Cálculo da média:\n",
      "1. Soma dos números: 34\n",
      "2. Quantidade de números: 12\n",
      "3. Média (soma / quantidade): 2.833\n"
     ]
    },
    {
     "data": {
      "text/plain": [
       "2.833"
      ]
     },
     "execution_count": 4,
     "metadata": {},
     "output_type": "execute_result"
    }
   ],
   "source": [
    "questao.mean()"
   ]
  },
  {
   "cell_type": "code",
   "execution_count": 5,
   "metadata": {},
   "outputs": [
    {
     "name": "stdout",
     "output_type": "stream",
     "text": [
      "Cálculo da mediana:\n",
      "1. Quantidade par de elementos\n",
      "2. Elementos do meio: 1 e 2\n",
      "3. Média dos elementos do meio: 1.5\n"
     ]
    },
    {
     "data": {
      "text/plain": [
       "1.5"
      ]
     },
     "execution_count": 5,
     "metadata": {},
     "output_type": "execute_result"
    }
   ],
   "source": [
    "questao.median()"
   ]
  },
  {
   "cell_type": "code",
   "execution_count": 6,
   "metadata": {},
   "outputs": [
    {
     "name": "stdout",
     "output_type": "stream",
     "text": [
      "Cálculo da moda:\n",
      "1. Frequências: {0: 5, 1: 1, 2: 1, 3: 2, 5: 2, 15: 1}\n",
      "2. Maior frequência: 5\n",
      "3. Moda: [0] (número(s) com maior frequência)\n"
     ]
    },
    {
     "data": {
      "text/plain": [
       "[0]"
      ]
     },
     "execution_count": 6,
     "metadata": {},
     "output_type": "execute_result"
    }
   ],
   "source": [
    "questao.mode()"
   ]
  },
  {
   "cell_type": "markdown",
   "metadata": {},
   "source": [
    "- Média: A média é sensível a valores extremos (outliers) como podemos observar nesse conjunto de dados. O valor 15 puxa a média para cima, o que pode não ser representativo da tendência central do conjunto de dados como um todo, considerando a quantidade de zeros.\n",
    "\n",
    "- Mediana: A mediana é menos sensível a valores extremos e oferece uma medida mais robusta da tendência central para este conjunto de dados. Ela mostra que metade das observações tem poucas ausências, independente do valor extremo presente.\n",
    "\n",
    "- Moda: A moda, sendo o valor mais frequente, mostra diretamente a ausência mais comum registrada. No caso, o valor 0 indica que a maioria das observações não teve ausências, o que pode ser uma indicação de boa assiduidade ou de um sistema de registro de ausências que favorece o valor zero.\n",
    "\n",
    "Cada uma dessas medidas de tendência central oferece uma perspectiva diferente sobre o conjunto de dados, e sua utilidade pode variar dependendo da natureza dos dados e do contexto em que estão sendo analisados."
   ]
  },
  {
   "cell_type": "markdown",
   "metadata": {},
   "source": [
    "### b. Notas nos exames [40, 40, 65, 71, 72, 75, 76, 78, 98]"
   ]
  },
  {
   "cell_type": "code",
   "execution_count": 7,
   "metadata": {},
   "outputs": [],
   "source": [
    "data = [40, 40, 65, 71, 72, 75, 76, 78, 98]\n",
    "questao = EstatisticaDescritiva(data)"
   ]
  },
  {
   "cell_type": "code",
   "execution_count": 8,
   "metadata": {},
   "outputs": [
    {
     "data": {
      "text/plain": [
       "[40, 40, 65, 71, 72, 75, 76, 78, 98]"
      ]
     },
     "execution_count": 8,
     "metadata": {},
     "output_type": "execute_result"
    }
   ],
   "source": [
    "questao.order_list()"
   ]
  },
  {
   "cell_type": "code",
   "execution_count": 9,
   "metadata": {},
   "outputs": [
    {
     "name": "stdout",
     "output_type": "stream",
     "text": [
      "Cálculo da média:\n",
      "1. Soma dos números: 615\n",
      "2. Quantidade de números: 9\n",
      "3. Média (soma / quantidade): 68.333\n"
     ]
    },
    {
     "data": {
      "text/plain": [
       "68.333"
      ]
     },
     "execution_count": 9,
     "metadata": {},
     "output_type": "execute_result"
    }
   ],
   "source": [
    "questao.mean()"
   ]
  },
  {
   "cell_type": "code",
   "execution_count": 10,
   "metadata": {},
   "outputs": [
    {
     "name": "stdout",
     "output_type": "stream",
     "text": [
      "Cálculo da mediana:\n",
      "1. Quantidade ímpar de elementos\n",
      "2. Elemento do meio (posição 4): 72\n"
     ]
    },
    {
     "data": {
      "text/plain": [
       "72"
      ]
     },
     "execution_count": 10,
     "metadata": {},
     "output_type": "execute_result"
    }
   ],
   "source": [
    "questao.median()"
   ]
  },
  {
   "cell_type": "code",
   "execution_count": 11,
   "metadata": {},
   "outputs": [
    {
     "name": "stdout",
     "output_type": "stream",
     "text": [
      "Cálculo da moda:\n",
      "1. Frequências: {40: 2, 65: 1, 71: 1, 72: 1, 75: 1, 76: 1, 78: 1, 98: 1}\n",
      "2. Maior frequência: 2\n",
      "3. Moda: [40] (número(s) com maior frequência)\n"
     ]
    },
    {
     "data": {
      "text/plain": [
       "[40]"
      ]
     },
     "execution_count": 11,
     "metadata": {},
     "output_type": "execute_result"
    }
   ],
   "source": [
    "questao.mode()"
   ]
  },
  {
   "cell_type": "markdown",
   "metadata": {},
   "source": [
    "- Média: A média é moderadamente influenciada pelos extremos no conjunto de dados, especialmente pela nota mais alta de 98, que eleva a média. Isso pode dar a impressão de que as notas são geralmente mais altas do que a moda sugere.\n",
    "\n",
    "- Mediana: A mediana fornece um ponto médio no conjunto de notas, oferecendo uma visão talvez mais realista da tendência central das notas dos alunos, não sendo afetada pela nota muito alta ou as muito baixas.\n",
    "\n",
    "- Moda: A moda revela que há uma concentração de notas no extremo inferior da escala, o que pode ser uma preocupação se o objetivo for avaliar a proficiência geral do grupo. A existência de uma moda de 40 sugere que uma parte significativa dos estudantes teve dificuldades, enquanto a mediana e a média mais altas indicam que muitos outros tiveram um desempenho razoavelmente bom.\n",
    "\n",
    "Neste caso, a discrepância entre a moda e as outras medidas de tendência central destaca a importância de olhar para todas essas medidas em conjunto para entender melhor a distribuição das notas dos exames e identificar possíveis áreas de melhoria no ensino ou no desempenho dos alunos."
   ]
  },
  {
   "cell_type": "markdown",
   "metadata": {},
   "source": [
    "### c. GPAs [2.25, 2.55, 2.95, 3.02, 3.04, 3.37, 3.51, 3.66]"
   ]
  },
  {
   "cell_type": "code",
   "execution_count": 12,
   "metadata": {},
   "outputs": [],
   "source": [
    "data = [2.25, 2.55, 2.95, 3.02, 3.04, 3.37, 3.51, 3.66] \n",
    "questao = EstatisticaDescritiva(data)"
   ]
  },
  {
   "cell_type": "code",
   "execution_count": 13,
   "metadata": {},
   "outputs": [
    {
     "data": {
      "text/plain": [
       "[2.25, 2.55, 2.95, 3.02, 3.04, 3.37, 3.51, 3.66]"
      ]
     },
     "execution_count": 13,
     "metadata": {},
     "output_type": "execute_result"
    }
   ],
   "source": [
    "questao.order_list()"
   ]
  },
  {
   "cell_type": "code",
   "execution_count": 14,
   "metadata": {},
   "outputs": [
    {
     "name": "stdout",
     "output_type": "stream",
     "text": [
      "Cálculo da média:\n",
      "1. Soma dos números: 24.349999999999998\n",
      "2. Quantidade de números: 8\n",
      "3. Média (soma / quantidade): 3.044\n"
     ]
    },
    {
     "data": {
      "text/plain": [
       "3.044"
      ]
     },
     "execution_count": 14,
     "metadata": {},
     "output_type": "execute_result"
    }
   ],
   "source": [
    "questao.mean()"
   ]
  },
  {
   "cell_type": "code",
   "execution_count": 15,
   "metadata": {},
   "outputs": [
    {
     "name": "stdout",
     "output_type": "stream",
     "text": [
      "Cálculo da mediana:\n",
      "1. Quantidade par de elementos\n",
      "2. Elementos do meio: 3.02 e 3.04\n",
      "3. Média dos elementos do meio: 3.03\n"
     ]
    },
    {
     "data": {
      "text/plain": [
       "3.03"
      ]
     },
     "execution_count": 15,
     "metadata": {},
     "output_type": "execute_result"
    }
   ],
   "source": [
    "questao.median()"
   ]
  },
  {
   "cell_type": "code",
   "execution_count": 16,
   "metadata": {},
   "outputs": [
    {
     "name": "stdout",
     "output_type": "stream",
     "text": [
      "Cálculo da moda:\n",
      "1. Frequências: {2.25: 1, 2.55: 1, 2.95: 1, 3.02: 1, 3.04: 1, 3.37: 1, 3.51: 1, 3.66: 1}\n",
      "2. Maior frequência: 1\n",
      "3. Moda: [2.25, 2.55, 2.95, 3.02, 3.04, 3.37, 3.51, 3.66] (número(s) com maior frequência)\n"
     ]
    },
    {
     "data": {
      "text/plain": [
       "[2.25, 2.55, 2.95, 3.02, 3.04, 3.37, 3.51, 3.66]"
      ]
     },
     "execution_count": 16,
     "metadata": {},
     "output_type": "execute_result"
    }
   ],
   "source": [
    "questao.mode()"
   ]
  },
  {
   "cell_type": "markdown",
   "metadata": {},
   "source": [
    "- Média e Mediana: A proximidade da média e da mediana indica uma distribuição relativamente simétrica dos GPAs. Não há valores extremamente baixos ou altos que distorçam significativamente a média, mostrando um agrupamento consistente em torno do centro da distribuição.\n",
    "\n",
    "- Moda: A ausência de uma moda distinta (cada GPA é único) destaca a variedade de desempenho acadêmico dentro do grupo, mas também significa que não há uma concentração particular de estudantes em torno de um determinado GPA.\n",
    "\n",
    "Este conjunto de dados mostra um grupo com uma distribuição de desempenho bastante homogênea e sem grandes variações, o que é refletido pela proximidade dos valores da média e da mediana. A falta de uma moda clara, por outro lado, indica diversidade no desempenho acadêmico, mas sem um GPA que se destaque como o mais comum entre os estudantes. "
   ]
  },
  {
   "cell_type": "markdown",
   "metadata": {},
   "source": [
    "## 2. Para cada conjunto de dados, a moda pode ser considerada uma medida adequada para a tendência central? Explique."
   ]
  },
  {
   "cell_type": "markdown",
   "metadata": {},
   "source": [
    "### a. Gênero de 12 executivos CEOs [M, M, F, M, F, M, M, M, F, M, M, M]"
   ]
  },
  {
   "cell_type": "code",
   "execution_count": 17,
   "metadata": {},
   "outputs": [],
   "source": [
    "data = ['M', 'M', 'F', 'M', 'F', 'M', 'M', 'M', 'F', 'M', 'M', 'M']\n",
    "transformed_data = [1 if x == 'M' else 0 for x in data]\n",
    "questao = EstatisticaDescritiva(transformed_data)"
   ]
  },
  {
   "cell_type": "code",
   "execution_count": 18,
   "metadata": {},
   "outputs": [
    {
     "data": {
      "text/plain": [
       "[0, 0, 0, 1, 1, 1, 1, 1, 1, 1, 1, 1]"
      ]
     },
     "execution_count": 18,
     "metadata": {},
     "output_type": "execute_result"
    }
   ],
   "source": [
    "questao.order_list()"
   ]
  },
  {
   "cell_type": "code",
   "execution_count": 19,
   "metadata": {},
   "outputs": [
    {
     "name": "stdout",
     "output_type": "stream",
     "text": [
      "Cálculo da média:\n",
      "1. Soma dos números: 9\n",
      "2. Quantidade de números: 12\n",
      "3. Média (soma / quantidade): 0.75\n"
     ]
    },
    {
     "data": {
      "text/plain": [
       "0.75"
      ]
     },
     "execution_count": 19,
     "metadata": {},
     "output_type": "execute_result"
    }
   ],
   "source": [
    "questao.mean()"
   ]
  },
  {
   "cell_type": "code",
   "execution_count": 20,
   "metadata": {},
   "outputs": [
    {
     "name": "stdout",
     "output_type": "stream",
     "text": [
      "Cálculo da mediana:\n",
      "1. Quantidade par de elementos\n",
      "2. Elementos do meio: 1 e 1\n",
      "3. Média dos elementos do meio: 1.0\n"
     ]
    },
    {
     "data": {
      "text/plain": [
       "1.0"
      ]
     },
     "execution_count": 20,
     "metadata": {},
     "output_type": "execute_result"
    }
   ],
   "source": [
    "questao.median()"
   ]
  },
  {
   "cell_type": "code",
   "execution_count": 21,
   "metadata": {},
   "outputs": [
    {
     "name": "stdout",
     "output_type": "stream",
     "text": [
      "Cálculo da moda:\n",
      "1. Frequências: {0: 3, 1: 9}\n",
      "2. Maior frequência: 9\n",
      "3. Moda: [1] (número(s) com maior frequência)\n"
     ]
    },
    {
     "data": {
      "text/plain": [
       "[1]"
      ]
     },
     "execution_count": 21,
     "metadata": {},
     "output_type": "execute_result"
    }
   ],
   "source": [
    "questao.mode()"
   ]
  },
  {
   "cell_type": "markdown",
   "metadata": {},
   "source": [
    "A moda, sendo a medida de tendência central aplicável aqui, revela que há uma predominância do gênero masculino entre os CEOs no conjunto de dados fornecido. Esta informação pode ser útil para análises relacionadas à diversidade de gênero em posições de liderança corporativa. A disparidade na representação de gênero, com uma maior proporção de homens que mulheres, reflete uma tendência comum em muitas indústrias, especialmente em posições de alto nível como CEOs. Isso pode levantar questões e discussões sobre as barreiras à entrada e progressão de carreira para mulheres em campos tradicionalmente dominados por homens.  "
   ]
  },
  {
   "cell_type": "markdown",
   "metadata": {},
   "source": [
    "### b. Faixa etária de 10 calouros universitários [17, 17, 18, 18, 18, 18, 18, 18, 19, 20]"
   ]
  },
  {
   "cell_type": "code",
   "execution_count": 22,
   "metadata": {},
   "outputs": [],
   "source": [
    "data = [17, 17, 18, 18, 18, 18, 18, 18, 19, 20]\n",
    "questao = EstatisticaDescritiva(transformed_data)"
   ]
  },
  {
   "cell_type": "code",
   "execution_count": 23,
   "metadata": {},
   "outputs": [
    {
     "data": {
      "text/plain": [
       "[0, 0, 0, 1, 1, 1, 1, 1, 1, 1, 1, 1]"
      ]
     },
     "execution_count": 23,
     "metadata": {},
     "output_type": "execute_result"
    }
   ],
   "source": [
    "questao.order_list()"
   ]
  },
  {
   "cell_type": "code",
   "execution_count": 24,
   "metadata": {},
   "outputs": [
    {
     "name": "stdout",
     "output_type": "stream",
     "text": [
      "Cálculo da média:\n",
      "1. Soma dos números: 9\n",
      "2. Quantidade de números: 12\n",
      "3. Média (soma / quantidade): 0.75\n"
     ]
    },
    {
     "data": {
      "text/plain": [
       "0.75"
      ]
     },
     "execution_count": 24,
     "metadata": {},
     "output_type": "execute_result"
    }
   ],
   "source": [
    "questao.mean()"
   ]
  },
  {
   "cell_type": "code",
   "execution_count": 25,
   "metadata": {},
   "outputs": [
    {
     "name": "stdout",
     "output_type": "stream",
     "text": [
      "Cálculo da mediana:\n",
      "1. Quantidade par de elementos\n",
      "2. Elementos do meio: 1 e 1\n",
      "3. Média dos elementos do meio: 1.0\n"
     ]
    },
    {
     "data": {
      "text/plain": [
       "1.0"
      ]
     },
     "execution_count": 25,
     "metadata": {},
     "output_type": "execute_result"
    }
   ],
   "source": [
    "questao.median()"
   ]
  },
  {
   "cell_type": "code",
   "execution_count": 26,
   "metadata": {},
   "outputs": [
    {
     "name": "stdout",
     "output_type": "stream",
     "text": [
      "Cálculo da moda:\n",
      "1. Frequências: {0: 3, 1: 9}\n",
      "2. Maior frequência: 9\n",
      "3. Moda: [1] (número(s) com maior frequência)\n"
     ]
    },
    {
     "data": {
      "text/plain": [
       "[1]"
      ]
     },
     "execution_count": 26,
     "metadata": {},
     "output_type": "execute_result"
    }
   ],
   "source": [
    "questao.mode()"
   ]
  },
  {
   "cell_type": "markdown",
   "metadata": {},
   "source": [
    "Para o conjunto de dados a moda é uma medida particularmente adequada para representar a tendência central. Isso se deve ao fato de que a moda identifica o valor (ou valores) que aparecem com maior frequência em um conjunto de dados, o que pode ser muito relevante em casos onde os dados são categóricos ou discretos, como é o caso das idades.\n",
    "\n",
    "No contexto específico deste conjunto de dados, a moda nos informa qual é a idade mais comum entre os calouros universitários, proporcionando uma visão direta da faixa etária predominante nesse grupo. Dado que a idade é um dado discreto e que há uma clara concentração de indivíduos em uma certa idade, a moda serve como uma boa indicação de tendência central, destacando a idade mais representativa do grupo.\n",
    "\n",
    "Aqui, a presença de idades como 17, 19 e 20, embora relevantes, são menos comuns em comparação com a moda, que neste caso provavelmente seria 18, refletindo a idade mais frequente e, portanto, a característica mais típica deste grupo de calouros universitários. Este dado é útil, por exemplo, para entender qual é a idade mais comum ao entrar na universidade, o que pode ter implicações para políticas universitárias, programas de orientação e outros serviços direcionados aos alunos.\n"
   ]
  },
  {
   "cell_type": "markdown",
   "metadata": {},
   "source": [
    "### c. Faixa etária de 8 alunos de MBA [24, 26, 27, 28, 30, 31, 33, 37]"
   ]
  },
  {
   "cell_type": "code",
   "execution_count": 27,
   "metadata": {},
   "outputs": [],
   "source": [
    "data = [24, 26, 27, 28, 30, 31, 33, 37] \n",
    "questao = EstatisticaDescritiva(data)"
   ]
  },
  {
   "cell_type": "code",
   "execution_count": 28,
   "metadata": {},
   "outputs": [
    {
     "data": {
      "text/plain": [
       "[24, 26, 27, 28, 30, 31, 33, 37]"
      ]
     },
     "execution_count": 28,
     "metadata": {},
     "output_type": "execute_result"
    }
   ],
   "source": [
    "questao.order_list()"
   ]
  },
  {
   "cell_type": "code",
   "execution_count": 29,
   "metadata": {},
   "outputs": [
    {
     "name": "stdout",
     "output_type": "stream",
     "text": [
      "Cálculo da média:\n",
      "1. Soma dos números: 236\n",
      "2. Quantidade de números: 8\n",
      "3. Média (soma / quantidade): 29.5\n"
     ]
    },
    {
     "data": {
      "text/plain": [
       "29.5"
      ]
     },
     "execution_count": 29,
     "metadata": {},
     "output_type": "execute_result"
    }
   ],
   "source": [
    "questao.mean()"
   ]
  },
  {
   "cell_type": "code",
   "execution_count": 30,
   "metadata": {},
   "outputs": [
    {
     "name": "stdout",
     "output_type": "stream",
     "text": [
      "Cálculo da mediana:\n",
      "1. Quantidade par de elementos\n",
      "2. Elementos do meio: 28 e 30\n",
      "3. Média dos elementos do meio: 29.0\n"
     ]
    },
    {
     "data": {
      "text/plain": [
       "29.0"
      ]
     },
     "execution_count": 30,
     "metadata": {},
     "output_type": "execute_result"
    }
   ],
   "source": [
    "questao.median()"
   ]
  },
  {
   "cell_type": "code",
   "execution_count": 31,
   "metadata": {},
   "outputs": [
    {
     "name": "stdout",
     "output_type": "stream",
     "text": [
      "Cálculo da moda:\n",
      "1. Frequências: {24: 1, 26: 1, 27: 1, 28: 1, 30: 1, 31: 1, 33: 1, 37: 1}\n",
      "2. Maior frequência: 1\n",
      "3. Moda: [24, 26, 27, 28, 30, 31, 33, 37] (número(s) com maior frequência)\n"
     ]
    },
    {
     "data": {
      "text/plain": [
       "[24, 26, 27, 28, 30, 31, 33, 37]"
      ]
     },
     "execution_count": 31,
     "metadata": {},
     "output_type": "execute_result"
    }
   ],
   "source": [
    "questao.mode()"
   ]
  },
  {
   "cell_type": "markdown",
   "metadata": {},
   "source": [
    "Neste conjunto de dados, as idades são variadas e cobrem um espectro mais amplo sem repetições, indicando que cada idade é única dentro do grupo. Portanto, a moda, neste caso, não seria definida da maneira tradicional, pois não há uma idade que apareça mais frequentemente do que as outras.\n",
    "\n",
    "Em situações como esta, onde não há repetição de valores, a moda não é uma medida útil de tendência central, porque não fornece informação sobre a característica mais comum do conjunto de dados. Outras medidas de tendência central, como a média e a mediana, seriam mais informativas neste contexto.\n",
    "\n",
    "A média daria uma ideia geral da idade média dos alunos, enquanto a mediana indicaria a idade do meio, dividindo o conjunto de dados em duas metades iguais. Ambas as medidas forneceriam insights mais valiosos sobre a distribuição das idades neste grupo de alunos de MBA, dada a ausência de uma moda clara."
   ]
  },
  {
   "cell_type": "markdown",
   "metadata": {},
   "source": [
    "## 3. Para cada conjunto de dados, qual medida (média, mediana ou ambas) representa melhor um valor \"típico\"?"
   ]
  },
  {
   "cell_type": "markdown",
   "metadata": {},
   "source": [
    "### a. Consumo de combustível em milhas por galão de 7 Hondas Civic [21.8, 24.1, 24.6, 26.2, 28.4, 35.2, 36.3]"
   ]
  },
  {
   "cell_type": "code",
   "execution_count": 32,
   "metadata": {},
   "outputs": [],
   "source": [
    "data = [21.8, 24.1, 24.6, 26.2, 28.4, 35.2, 36.3]\n",
    "questao = EstatisticaDescritiva(data)"
   ]
  },
  {
   "cell_type": "code",
   "execution_count": 33,
   "metadata": {},
   "outputs": [
    {
     "data": {
      "text/plain": [
       "[21.8, 24.1, 24.6, 26.2, 28.4, 35.2, 36.3]"
      ]
     },
     "execution_count": 33,
     "metadata": {},
     "output_type": "execute_result"
    }
   ],
   "source": [
    "questao.order_list()"
   ]
  },
  {
   "cell_type": "code",
   "execution_count": 34,
   "metadata": {},
   "outputs": [
    {
     "name": "stdout",
     "output_type": "stream",
     "text": [
      "Cálculo da média:\n",
      "1. Soma dos números: 196.60000000000002\n",
      "2. Quantidade de números: 7\n",
      "3. Média (soma / quantidade): 28.086\n"
     ]
    },
    {
     "data": {
      "text/plain": [
       "28.086"
      ]
     },
     "execution_count": 34,
     "metadata": {},
     "output_type": "execute_result"
    }
   ],
   "source": [
    "questao.mean()"
   ]
  },
  {
   "cell_type": "code",
   "execution_count": 35,
   "metadata": {},
   "outputs": [
    {
     "name": "stdout",
     "output_type": "stream",
     "text": [
      "Cálculo da mediana:\n",
      "1. Quantidade ímpar de elementos\n",
      "2. Elemento do meio (posição 3): 26.2\n"
     ]
    },
    {
     "data": {
      "text/plain": [
       "26.2"
      ]
     },
     "execution_count": 35,
     "metadata": {},
     "output_type": "execute_result"
    }
   ],
   "source": [
    "questao.median()"
   ]
  },
  {
   "cell_type": "code",
   "execution_count": 36,
   "metadata": {},
   "outputs": [
    {
     "name": "stdout",
     "output_type": "stream",
     "text": [
      "Cálculo da moda:\n",
      "1. Frequências: {21.8: 1, 24.1: 1, 24.6: 1, 26.2: 1, 28.4: 1, 35.2: 1, 36.3: 1}\n",
      "2. Maior frequência: 1\n",
      "3. Moda: [21.8, 24.1, 24.6, 26.2, 28.4, 35.2, 36.3] (número(s) com maior frequência)\n"
     ]
    },
    {
     "data": {
      "text/plain": [
       "[21.8, 24.1, 24.6, 26.2, 28.4, 35.2, 36.3]"
      ]
     },
     "execution_count": 36,
     "metadata": {},
     "output_type": "execute_result"
    }
   ],
   "source": [
    "questao.mode()"
   ]
  },
  {
   "cell_type": "markdown",
   "metadata": {},
   "source": [
    "### b. Número de passageiros em 8 carros [1, 1, 1, 1, 1, 1, 4, 6]"
   ]
  },
  {
   "cell_type": "code",
   "execution_count": 37,
   "metadata": {},
   "outputs": [],
   "source": [
    "data = [1, 1, 1, 1, 1, 1, 4, 6] \n",
    "questao = EstatisticaDescritiva(data)"
   ]
  },
  {
   "cell_type": "code",
   "execution_count": 38,
   "metadata": {},
   "outputs": [
    {
     "data": {
      "text/plain": [
       "[1, 1, 1, 1, 1, 1, 4, 6]"
      ]
     },
     "execution_count": 38,
     "metadata": {},
     "output_type": "execute_result"
    }
   ],
   "source": [
    "questao.order_list()"
   ]
  },
  {
   "cell_type": "code",
   "execution_count": 39,
   "metadata": {},
   "outputs": [
    {
     "name": "stdout",
     "output_type": "stream",
     "text": [
      "Cálculo da média:\n",
      "1. Soma dos números: 16\n",
      "2. Quantidade de números: 8\n",
      "3. Média (soma / quantidade): 2.0\n"
     ]
    },
    {
     "data": {
      "text/plain": [
       "2.0"
      ]
     },
     "execution_count": 39,
     "metadata": {},
     "output_type": "execute_result"
    }
   ],
   "source": [
    "questao.mean()"
   ]
  },
  {
   "cell_type": "code",
   "execution_count": 40,
   "metadata": {},
   "outputs": [
    {
     "name": "stdout",
     "output_type": "stream",
     "text": [
      "Cálculo da mediana:\n",
      "1. Quantidade par de elementos\n",
      "2. Elementos do meio: 1 e 1\n",
      "3. Média dos elementos do meio: 1.0\n"
     ]
    },
    {
     "data": {
      "text/plain": [
       "1.0"
      ]
     },
     "execution_count": 40,
     "metadata": {},
     "output_type": "execute_result"
    }
   ],
   "source": [
    "questao.median()"
   ]
  },
  {
   "cell_type": "code",
   "execution_count": 41,
   "metadata": {},
   "outputs": [
    {
     "name": "stdout",
     "output_type": "stream",
     "text": [
      "Cálculo da moda:\n",
      "1. Frequências: {1: 6, 4: 1, 6: 1}\n",
      "2. Maior frequência: 6\n",
      "3. Moda: [1] (número(s) com maior frequência)\n"
     ]
    },
    {
     "data": {
      "text/plain": [
       "[1]"
      ]
     },
     "execution_count": 41,
     "metadata": {},
     "output_type": "execute_result"
    }
   ],
   "source": [
    "questao.mode()"
   ]
  },
  {
   "cell_type": "markdown",
   "metadata": {},
   "source": [
    "### c. Número de clientes em cada uma de 10 mesas de um restaurante [1, 2, 2, 2, 3, 3, 4, 4, 4, 5]"
   ]
  },
  {
   "cell_type": "code",
   "execution_count": 42,
   "metadata": {},
   "outputs": [],
   "source": [
    "data = [1, 2, 2, 2, 3, 3, 4, 4, 4, 5] \n",
    "questao = EstatisticaDescritiva(data)"
   ]
  },
  {
   "cell_type": "code",
   "execution_count": 43,
   "metadata": {},
   "outputs": [
    {
     "data": {
      "text/plain": [
       "[1, 2, 2, 2, 3, 3, 4, 4, 4, 5]"
      ]
     },
     "execution_count": 43,
     "metadata": {},
     "output_type": "execute_result"
    }
   ],
   "source": [
    "questao.order_list()"
   ]
  },
  {
   "cell_type": "code",
   "execution_count": 44,
   "metadata": {},
   "outputs": [
    {
     "name": "stdout",
     "output_type": "stream",
     "text": [
      "Cálculo da média:\n",
      "1. Soma dos números: 30\n",
      "2. Quantidade de números: 10\n",
      "3. Média (soma / quantidade): 3.0\n"
     ]
    },
    {
     "data": {
      "text/plain": [
       "3.0"
      ]
     },
     "execution_count": 44,
     "metadata": {},
     "output_type": "execute_result"
    }
   ],
   "source": [
    "questao.mean()"
   ]
  },
  {
   "cell_type": "code",
   "execution_count": 45,
   "metadata": {},
   "outputs": [
    {
     "name": "stdout",
     "output_type": "stream",
     "text": [
      "Cálculo da mediana:\n",
      "1. Quantidade par de elementos\n",
      "2. Elementos do meio: 3 e 3\n",
      "3. Média dos elementos do meio: 3.0\n"
     ]
    },
    {
     "data": {
      "text/plain": [
       "3.0"
      ]
     },
     "execution_count": 45,
     "metadata": {},
     "output_type": "execute_result"
    }
   ],
   "source": [
    "questao.median()"
   ]
  },
  {
   "cell_type": "code",
   "execution_count": 46,
   "metadata": {},
   "outputs": [
    {
     "name": "stdout",
     "output_type": "stream",
     "text": [
      "Cálculo da moda:\n",
      "1. Frequências: {1: 1, 2: 3, 3: 2, 4: 3, 5: 1}\n",
      "2. Maior frequência: 3\n",
      "3. Moda: [2, 4] (número(s) com maior frequência)\n"
     ]
    },
    {
     "data": {
      "text/plain": [
       "[2, 4]"
      ]
     },
     "execution_count": 46,
     "metadata": {},
     "output_type": "execute_result"
    }
   ],
   "source": [
    "questao.mode()"
   ]
  },
  {
   "cell_type": "markdown",
   "metadata": {},
   "source": [
    "## 4. A seguir encontram-se o número de dias decorridos até a venda de 36 residências na cidade de Sonando Hills.\n",
    "\n",
    "[18, 70, 52, 17, 86, 121, 86, 3, 66, 96, 41, 50, 176, 26, 28, 6, 55, 21, 43, 20, 56, 71, 57, 16, 20, 30, 31, 44, 44, 92, 179, 80, 98, 44, 66, 15]"
   ]
  },
  {
   "cell_type": "markdown",
   "metadata": {},
   "source": [
    "### a. Calcule a média, a mediana e a moda"
   ]
  },
  {
   "cell_type": "code",
   "execution_count": 47,
   "metadata": {},
   "outputs": [],
   "source": [
    "data = [18, 70, 52, 17, 86, 121, 86, 3, 66, 96, 41, 50, 176, 26, 28, 6, 55, 21, 43, 20, 56, 71, 57, 16, 20, 30, 31, 44, 44, 92, 179, 80, 98, 44, 66, 15]\n",
    "questao = EstatisticaDescritiva(data)"
   ]
  },
  {
   "cell_type": "code",
   "execution_count": 48,
   "metadata": {},
   "outputs": [
    {
     "data": {
      "text/plain": [
       "[3,\n",
       " 6,\n",
       " 15,\n",
       " 16,\n",
       " 17,\n",
       " 18,\n",
       " 20,\n",
       " 20,\n",
       " 21,\n",
       " 26,\n",
       " 28,\n",
       " 30,\n",
       " 31,\n",
       " 41,\n",
       " 43,\n",
       " 44,\n",
       " 44,\n",
       " 44,\n",
       " 50,\n",
       " 52,\n",
       " 55,\n",
       " 56,\n",
       " 57,\n",
       " 66,\n",
       " 66,\n",
       " 70,\n",
       " 71,\n",
       " 80,\n",
       " 86,\n",
       " 86,\n",
       " 92,\n",
       " 96,\n",
       " 98,\n",
       " 121,\n",
       " 176,\n",
       " 179]"
      ]
     },
     "execution_count": 48,
     "metadata": {},
     "output_type": "execute_result"
    }
   ],
   "source": [
    "questao.order_list()"
   ]
  },
  {
   "cell_type": "code",
   "execution_count": 49,
   "metadata": {},
   "outputs": [
    {
     "name": "stdout",
     "output_type": "stream",
     "text": [
      "Cálculo da média:\n",
      "1. Soma dos números: 2024\n",
      "2. Quantidade de números: 36\n",
      "3. Média (soma / quantidade): 56.222\n"
     ]
    },
    {
     "data": {
      "text/plain": [
       "56.222"
      ]
     },
     "execution_count": 49,
     "metadata": {},
     "output_type": "execute_result"
    }
   ],
   "source": [
    "questao.mean()"
   ]
  },
  {
   "cell_type": "code",
   "execution_count": 50,
   "metadata": {},
   "outputs": [
    {
     "name": "stdout",
     "output_type": "stream",
     "text": [
      "Cálculo da mediana:\n",
      "1. Quantidade par de elementos\n",
      "2. Elementos do meio: 44 e 50\n",
      "3. Média dos elementos do meio: 47.0\n"
     ]
    },
    {
     "data": {
      "text/plain": [
       "47.0"
      ]
     },
     "execution_count": 50,
     "metadata": {},
     "output_type": "execute_result"
    }
   ],
   "source": [
    "questao.median()"
   ]
  },
  {
   "cell_type": "code",
   "execution_count": 51,
   "metadata": {},
   "outputs": [
    {
     "name": "stdout",
     "output_type": "stream",
     "text": [
      "Cálculo da moda:\n",
      "1. Frequências: {3: 1, 6: 1, 15: 1, 16: 1, 17: 1, 18: 1, 20: 2, 21: 1, 26: 1, 28: 1, 30: 1, 31: 1, 41: 1, 43: 1, 44: 3, 50: 1, 52: 1, 55: 1, 56: 1, 57: 1, 66: 2, 70: 1, 71: 1, 80: 1, 86: 2, 92: 1, 96: 1, 98: 1, 121: 1, 176: 1, 179: 1}\n",
      "2. Maior frequência: 3\n",
      "3. Moda: [44] (número(s) com maior frequência)\n"
     ]
    },
    {
     "data": {
      "text/plain": [
       "[44]"
      ]
     },
     "execution_count": 51,
     "metadata": {},
     "output_type": "execute_result"
    }
   ],
   "source": [
    "questao.mode()"
   ]
  },
  {
   "cell_type": "markdown",
   "metadata": {},
   "source": [
    "### b. A distribuição é assimétrica? Explique"
   ]
  },
  {
   "cell_type": "code",
   "execution_count": 52,
   "metadata": {},
   "outputs": [
    {
     "name": "stdout",
     "output_type": "stream",
     "text": [
      "Cálculo da média:\n",
      "1. Soma dos números: 2024\n",
      "2. Quantidade de números: 36\n",
      "3. Média (soma / quantidade): 56.222\n",
      "Cálculo da mediana:\n",
      "1. Quantidade par de elementos\n",
      "2. Elementos do meio: 44 e 50\n",
      "3. Média dos elementos do meio: 47.0\n",
      "Cálculo da moda:\n",
      "1. Frequências: {3: 1, 6: 1, 15: 1, 16: 1, 17: 1, 18: 1, 20: 2, 21: 1, 26: 1, 28: 1, 30: 1, 31: 1, 41: 1, 43: 1, 44: 3, 50: 1, 52: 1, 55: 1, 56: 1, 57: 1, 66: 2, 70: 1, 71: 1, 80: 1, 86: 2, 92: 1, 96: 1, 98: 1, 121: 1, 176: 1, 179: 1}\n",
      "2. Maior frequência: 3\n",
      "3. Moda: [44] (número(s) com maior frequência)\n",
      "Determinação da simetria:\n",
      "A distribuição é assimétrica para a direita (positiva).\n"
     ]
    },
    {
     "data": {
      "text/plain": [
       "'A distribuição é assimétrica para a direita (positiva).'"
      ]
     },
     "execution_count": 52,
     "metadata": {},
     "output_type": "execute_result"
    }
   ],
   "source": [
    "questao.symmetry()"
   ]
  },
  {
   "cell_type": "markdown",
   "metadata": {},
   "source": [
    "A diferença entre a média e a mediana sugere que a distribuição dos dias até a venda não é perfeitamente simétrica, tendendo ligeiramente para uma distribuição com cauda à direita, onde há algumas vendas que levaram muito mais tempo do que a média. A moda, sendo menor que a média e a mediana, reforça a ideia de que uma concentração de vendas ocorre em torno de um período mais curto do que a média de tempo até a venda."
   ]
  },
  {
   "cell_type": "markdown",
   "metadata": {},
   "source": [
    "### c. A moda pode ser considerada uma medida útil de tendência central para esse conjunto de dados?"
   ]
  },
  {
   "cell_type": "markdown",
   "metadata": {},
   "source": [
    "Para o conjunto de dados do número de dias até a venda de 36 residências em Sonando Hills, a moda é 44 dias, o que significa que esse foi o número de dias mais frequentemente observado até a venda de uma residência. No entanto, a utilidade da moda como medida de tendência central para esse conjunto de dados depende do que queremos entender ou destacar sobre o comportamento do mercado imobiliário em Sonando Hills."
   ]
  },
  {
   "cell_type": "markdown",
   "metadata": {},
   "source": [
    "## 5. A seguir encontram-se as notas de 24 candidatos em um concurso público estadual na área jurídica.\n",
    "[83, 93, 74, 98, 85, 82, 79, 78, 82, 68, 67, 82, 78, 83, 70, 99, 18, 96, 93, 62, 64, 93, 27, 58]"
   ]
  },
  {
   "cell_type": "markdown",
   "metadata": {},
   "source": [
    "### a. Calcule a média, a mediana e a moda"
   ]
  },
  {
   "cell_type": "code",
   "execution_count": 53,
   "metadata": {},
   "outputs": [],
   "source": [
    "data = [83, 93, 74, 98, 85, 82, 79, 78, 82, 68, 67, 82, 78, 83, 70, 99, 18, 96, 93, 62, 64, 93, 27, 58]\n",
    "questao = EstatisticaDescritiva(data)"
   ]
  },
  {
   "cell_type": "code",
   "execution_count": 54,
   "metadata": {},
   "outputs": [
    {
     "data": {
      "text/plain": [
       "[18,\n",
       " 27,\n",
       " 58,\n",
       " 62,\n",
       " 64,\n",
       " 67,\n",
       " 68,\n",
       " 70,\n",
       " 74,\n",
       " 78,\n",
       " 78,\n",
       " 79,\n",
       " 82,\n",
       " 82,\n",
       " 82,\n",
       " 83,\n",
       " 83,\n",
       " 85,\n",
       " 93,\n",
       " 93,\n",
       " 93,\n",
       " 96,\n",
       " 98,\n",
       " 99]"
      ]
     },
     "execution_count": 54,
     "metadata": {},
     "output_type": "execute_result"
    }
   ],
   "source": [
    "questao.order_list()"
   ]
  },
  {
   "cell_type": "code",
   "execution_count": 55,
   "metadata": {},
   "outputs": [
    {
     "name": "stdout",
     "output_type": "stream",
     "text": [
      "Cálculo da média:\n",
      "1. Soma dos números: 1812\n",
      "2. Quantidade de números: 24\n",
      "3. Média (soma / quantidade): 75.5\n"
     ]
    },
    {
     "data": {
      "text/plain": [
       "75.5"
      ]
     },
     "execution_count": 55,
     "metadata": {},
     "output_type": "execute_result"
    }
   ],
   "source": [
    "questao.mean()"
   ]
  },
  {
   "cell_type": "code",
   "execution_count": 56,
   "metadata": {},
   "outputs": [
    {
     "name": "stdout",
     "output_type": "stream",
     "text": [
      "Cálculo da mediana:\n",
      "1. Quantidade par de elementos\n",
      "2. Elementos do meio: 79 e 82\n",
      "3. Média dos elementos do meio: 80.5\n"
     ]
    },
    {
     "data": {
      "text/plain": [
       "80.5"
      ]
     },
     "execution_count": 56,
     "metadata": {},
     "output_type": "execute_result"
    }
   ],
   "source": [
    "questao.median()"
   ]
  },
  {
   "cell_type": "code",
   "execution_count": 57,
   "metadata": {},
   "outputs": [
    {
     "name": "stdout",
     "output_type": "stream",
     "text": [
      "Cálculo da moda:\n",
      "1. Frequências: {18: 1, 27: 1, 58: 1, 62: 1, 64: 1, 67: 1, 68: 1, 70: 1, 74: 1, 78: 2, 79: 1, 82: 3, 83: 2, 85: 1, 93: 3, 96: 1, 98: 1, 99: 1}\n",
      "2. Maior frequência: 3\n",
      "3. Moda: [82, 93] (número(s) com maior frequência)\n"
     ]
    },
    {
     "data": {
      "text/plain": [
       "[82, 93]"
      ]
     },
     "execution_count": 57,
     "metadata": {},
     "output_type": "execute_result"
    }
   ],
   "source": [
    "questao.mode()"
   ]
  },
  {
   "cell_type": "markdown",
   "metadata": {},
   "source": [
    "### b. A distribuição é assimétrica? Explique"
   ]
  },
  {
   "cell_type": "code",
   "execution_count": 58,
   "metadata": {},
   "outputs": [
    {
     "name": "stdout",
     "output_type": "stream",
     "text": [
      "Cálculo da média:\n",
      "1. Soma dos números: 1812\n",
      "2. Quantidade de números: 24\n",
      "3. Média (soma / quantidade): 75.5\n",
      "Cálculo da mediana:\n",
      "1. Quantidade par de elementos\n",
      "2. Elementos do meio: 79 e 82\n",
      "3. Média dos elementos do meio: 80.5\n",
      "Cálculo da moda:\n",
      "1. Frequências: {18: 1, 27: 1, 58: 1, 62: 1, 64: 1, 67: 1, 68: 1, 70: 1, 74: 1, 78: 2, 79: 1, 82: 3, 83: 2, 85: 1, 93: 3, 96: 1, 98: 1, 99: 1}\n",
      "2. Maior frequência: 3\n",
      "3. Moda: [82, 93] (número(s) com maior frequência)\n",
      "Determinação da simetria:\n",
      "A distribuição pode não ser claramente simétrica ou assimétrica.\n"
     ]
    },
    {
     "data": {
      "text/plain": [
       "'A distribuição pode não ser claramente simétrica ou assimétrica.'"
      ]
     },
     "execution_count": 58,
     "metadata": {},
     "output_type": "execute_result"
    }
   ],
   "source": [
    "questao.symmetry()"
   ]
  },
  {
   "cell_type": "code",
   "execution_count": 59,
   "metadata": {},
   "outputs": [
    {
     "name": "stdout",
     "output_type": "stream",
     "text": [
      "Cálculo da média:\n",
      "1. Soma dos números: 1812\n",
      "2. Quantidade de números: 24\n",
      "3. Média (soma / quantidade): 75.5\n",
      "Cálculo da variância:\n",
      "1. Média dos números: 75.5\n",
      "2. Somatório das diferenças quadradas: 9192.0\n",
      "3. Variância (somatório / quantidade): 383.0\n",
      "Cálculo do desvio padrão:\n",
      "1. Variância: 383.0\n",
      "2. Desvio padrão (raiz quadrada da variância): 19.57\n",
      "Cálculo da assimetria: -1.665\n"
     ]
    }
   ],
   "source": [
    "questao.skewness()"
   ]
  },
  {
   "cell_type": "markdown",
   "metadata": {},
   "source": [
    "Para determinar se a distribuição é assimétrica, podemos analisar a relação entre a média e a mediana. Em uma distribuição simétrica, a média e a mediana tendem a ser próximas. Aqui, a média é menor do que a mediana, o que pode indicar uma assimetria ou a presença de notas mais baixas que puxam a média para baixo. Além disso, o fato de haver uma nota muito baixa (18) sugere a possibilidade de uma distribuição assimétrica à esquerda. Vamos calcular a assimetria (skewness) para ter uma melhor confirmação.\n",
    "\n",
    "A assimetria (skewness) para a distribuição das notas dos 24 candidatos é aproximadamente -1.46, o que indica uma distribuição assimétrica à esquerda. Isso significa que há uma cauda mais longa no lado esquerdo da distribuição das notas, e isso geralmente é causado pela presença de valores mais baixos que distorcem a média para menos da mediana. Essa assimetria é confirmada pela presença de uma nota muito baixa de 18 no conjunto de dados, que puxa a média para baixo."
   ]
  },
  {
   "cell_type": "markdown",
   "metadata": {},
   "source": [
    "### c. A moda pode ser considerada uma medida útil de tendência central para esse conjunto de dados?"
   ]
  },
  {
   "cell_type": "markdown",
   "metadata": {},
   "source": [
    "A moda pode ser considerada útil quando há uma ou mais notas que se destacam em frequência. Como temos uma distribuição bimodal, com duas notas ocorrendo com a maior frequência (93 e 82), a moda fornece informações sobre os picos na distribuição das notas. No entanto, a presença de múltiplas modas pode significar que a distribuição das notas tem múltiplos valores comuns, o que torna a moda menos representativa da tendência central do que a média ou a mediana. Portanto, embora a moda forneça informações úteis sobre os valores mais frequentes, ela deve ser usada junto com a média e a mediana para fornecer uma visão completa da tendência central.\n",
    "\n",
    "A moda fornece informações sobre os valores mais frequentes, mas, neste caso, a presença de duas modas e a assimetria significativa tornam a média e a mediana mais representativas da tendência central deste conjunto de dados. Ainda assim, a moda é útil para identificar os valores que ocorrem com mais frequência."
   ]
  },
  {
   "cell_type": "markdown",
   "metadata": {},
   "source": [
    "## 6. O Prof. Hardtack aplicou quatro provas às sextas-feiras no último semestre para seus 10 formandos do curso de contabilidade.\n",
    "\n",
    "Prova 1: [60, 60, 60, 61, 73, 74, 75, 88, 99]\n",
    "\n",
    "Prova 2: [65, 65, 65, 65, 70, 74, 79, 79, 79, 79]\n",
    "\n",
    "Prova 3: [66, 67, 70, 71, 72, 72, 74, 74, 95, 99]\n",
    "\n",
    "Prova 4: [10, 49, 70, 80, 85, 88, 90, 93, 97, 98]"
   ]
  },
  {
   "cell_type": "markdown",
   "metadata": {},
   "source": [
    "### a. Calculando a média, a mediana e a moda para cada prova"
   ]
  },
  {
   "cell_type": "markdown",
   "metadata": {},
   "source": [
    "#### Prova 1"
   ]
  },
  {
   "cell_type": "code",
   "execution_count": 60,
   "metadata": {},
   "outputs": [],
   "source": [
    "data1 = [60, 60, 60, 61, 73, 74, 75, 88, 99]\n",
    "questao1 = EstatisticaDescritiva(data1)"
   ]
  },
  {
   "cell_type": "code",
   "execution_count": 61,
   "metadata": {},
   "outputs": [
    {
     "data": {
      "text/plain": [
       "[60, 60, 60, 61, 73, 74, 75, 88, 99]"
      ]
     },
     "execution_count": 61,
     "metadata": {},
     "output_type": "execute_result"
    }
   ],
   "source": [
    "questao1.order_list()"
   ]
  },
  {
   "cell_type": "code",
   "execution_count": 62,
   "metadata": {},
   "outputs": [
    {
     "name": "stdout",
     "output_type": "stream",
     "text": [
      "Cálculo da média:\n",
      "1. Soma dos números: 650\n",
      "2. Quantidade de números: 9\n",
      "3. Média (soma / quantidade): 72.222\n"
     ]
    },
    {
     "data": {
      "text/plain": [
       "72.222"
      ]
     },
     "execution_count": 62,
     "metadata": {},
     "output_type": "execute_result"
    }
   ],
   "source": [
    "questao1.mean()"
   ]
  },
  {
   "cell_type": "code",
   "execution_count": 63,
   "metadata": {},
   "outputs": [
    {
     "name": "stdout",
     "output_type": "stream",
     "text": [
      "Cálculo da mediana:\n",
      "1. Quantidade ímpar de elementos\n",
      "2. Elemento do meio (posição 4): 73\n"
     ]
    },
    {
     "data": {
      "text/plain": [
       "73"
      ]
     },
     "execution_count": 63,
     "metadata": {},
     "output_type": "execute_result"
    }
   ],
   "source": [
    "questao1.median()"
   ]
  },
  {
   "cell_type": "code",
   "execution_count": 64,
   "metadata": {},
   "outputs": [
    {
     "name": "stdout",
     "output_type": "stream",
     "text": [
      "Cálculo da moda:\n",
      "1. Frequências: {60: 3, 61: 1, 73: 1, 74: 1, 75: 1, 88: 1, 99: 1}\n",
      "2. Maior frequência: 3\n",
      "3. Moda: [60] (número(s) com maior frequência)\n"
     ]
    },
    {
     "data": {
      "text/plain": [
       "[60]"
      ]
     },
     "execution_count": 64,
     "metadata": {},
     "output_type": "execute_result"
    }
   ],
   "source": [
    "questao1.mode()"
   ]
  },
  {
   "cell_type": "markdown",
   "metadata": {},
   "source": [
    "#### Prova 2"
   ]
  },
  {
   "cell_type": "code",
   "execution_count": 65,
   "metadata": {},
   "outputs": [],
   "source": [
    "data2 = [65, 65, 65, 65, 70, 74, 79, 79, 79, 79] \n",
    "questao2 = EstatisticaDescritiva(data2)"
   ]
  },
  {
   "cell_type": "code",
   "execution_count": 66,
   "metadata": {},
   "outputs": [
    {
     "data": {
      "text/plain": [
       "[65, 65, 65, 65, 70, 74, 79, 79, 79, 79]"
      ]
     },
     "execution_count": 66,
     "metadata": {},
     "output_type": "execute_result"
    }
   ],
   "source": [
    "questao2.order_list()"
   ]
  },
  {
   "cell_type": "code",
   "execution_count": 67,
   "metadata": {},
   "outputs": [
    {
     "name": "stdout",
     "output_type": "stream",
     "text": [
      "Cálculo da média:\n",
      "1. Soma dos números: 720\n",
      "2. Quantidade de números: 10\n",
      "3. Média (soma / quantidade): 72.0\n"
     ]
    },
    {
     "data": {
      "text/plain": [
       "72.0"
      ]
     },
     "execution_count": 67,
     "metadata": {},
     "output_type": "execute_result"
    }
   ],
   "source": [
    "questao2.mean()"
   ]
  },
  {
   "cell_type": "code",
   "execution_count": 68,
   "metadata": {},
   "outputs": [
    {
     "name": "stdout",
     "output_type": "stream",
     "text": [
      "Cálculo da mediana:\n",
      "1. Quantidade par de elementos\n",
      "2. Elementos do meio: 70 e 74\n",
      "3. Média dos elementos do meio: 72.0\n"
     ]
    },
    {
     "data": {
      "text/plain": [
       "72.0"
      ]
     },
     "execution_count": 68,
     "metadata": {},
     "output_type": "execute_result"
    }
   ],
   "source": [
    "questao2.median()"
   ]
  },
  {
   "cell_type": "code",
   "execution_count": 69,
   "metadata": {},
   "outputs": [
    {
     "name": "stdout",
     "output_type": "stream",
     "text": [
      "Cálculo da moda:\n",
      "1. Frequências: {65: 4, 70: 1, 74: 1, 79: 4}\n",
      "2. Maior frequência: 4\n",
      "3. Moda: [65, 79] (número(s) com maior frequência)\n"
     ]
    },
    {
     "data": {
      "text/plain": [
       "[65, 79]"
      ]
     },
     "execution_count": 69,
     "metadata": {},
     "output_type": "execute_result"
    }
   ],
   "source": [
    "questao2.mode()"
   ]
  },
  {
   "cell_type": "markdown",
   "metadata": {},
   "source": [
    "#### Prova 3"
   ]
  },
  {
   "cell_type": "code",
   "execution_count": 70,
   "metadata": {},
   "outputs": [],
   "source": [
    "data3 = [66, 67, 70, 71, 72, 72, 74, 74, 95, 99] \n",
    "questao3 = EstatisticaDescritiva(data3)"
   ]
  },
  {
   "cell_type": "code",
   "execution_count": 71,
   "metadata": {},
   "outputs": [
    {
     "data": {
      "text/plain": [
       "[66, 67, 70, 71, 72, 72, 74, 74, 95, 99]"
      ]
     },
     "execution_count": 71,
     "metadata": {},
     "output_type": "execute_result"
    }
   ],
   "source": [
    "questao3.order_list()"
   ]
  },
  {
   "cell_type": "code",
   "execution_count": 72,
   "metadata": {},
   "outputs": [
    {
     "name": "stdout",
     "output_type": "stream",
     "text": [
      "Cálculo da média:\n",
      "1. Soma dos números: 760\n",
      "2. Quantidade de números: 10\n",
      "3. Média (soma / quantidade): 76.0\n"
     ]
    },
    {
     "data": {
      "text/plain": [
       "76.0"
      ]
     },
     "execution_count": 72,
     "metadata": {},
     "output_type": "execute_result"
    }
   ],
   "source": [
    "questao3.mean()"
   ]
  },
  {
   "cell_type": "code",
   "execution_count": 73,
   "metadata": {},
   "outputs": [
    {
     "name": "stdout",
     "output_type": "stream",
     "text": [
      "Cálculo da mediana:\n",
      "1. Quantidade par de elementos\n",
      "2. Elementos do meio: 72 e 72\n",
      "3. Média dos elementos do meio: 72.0\n"
     ]
    },
    {
     "data": {
      "text/plain": [
       "72.0"
      ]
     },
     "execution_count": 73,
     "metadata": {},
     "output_type": "execute_result"
    }
   ],
   "source": [
    "questao3.median()"
   ]
  },
  {
   "cell_type": "code",
   "execution_count": 74,
   "metadata": {},
   "outputs": [
    {
     "name": "stdout",
     "output_type": "stream",
     "text": [
      "Cálculo da moda:\n",
      "1. Frequências: {66: 1, 67: 1, 70: 1, 71: 1, 72: 2, 74: 2, 95: 1, 99: 1}\n",
      "2. Maior frequência: 2\n",
      "3. Moda: [72, 74] (número(s) com maior frequência)\n"
     ]
    },
    {
     "data": {
      "text/plain": [
       "[72, 74]"
      ]
     },
     "execution_count": 74,
     "metadata": {},
     "output_type": "execute_result"
    }
   ],
   "source": [
    "questao3.mode()"
   ]
  },
  {
   "cell_type": "markdown",
   "metadata": {},
   "source": [
    "#### Prova 4"
   ]
  },
  {
   "cell_type": "code",
   "execution_count": 75,
   "metadata": {},
   "outputs": [],
   "source": [
    "data4 = [10, 49, 70, 80, 85, 88, 90, 93, 97, 98] \n",
    "questao4 = EstatisticaDescritiva(data4)"
   ]
  },
  {
   "cell_type": "code",
   "execution_count": 76,
   "metadata": {},
   "outputs": [
    {
     "data": {
      "text/plain": [
       "[10, 49, 70, 80, 85, 88, 90, 93, 97, 98]"
      ]
     },
     "execution_count": 76,
     "metadata": {},
     "output_type": "execute_result"
    }
   ],
   "source": [
    "questao4.order_list()"
   ]
  },
  {
   "cell_type": "code",
   "execution_count": 77,
   "metadata": {},
   "outputs": [
    {
     "name": "stdout",
     "output_type": "stream",
     "text": [
      "Cálculo da média:\n",
      "1. Soma dos números: 760\n",
      "2. Quantidade de números: 10\n",
      "3. Média (soma / quantidade): 76.0\n"
     ]
    },
    {
     "data": {
      "text/plain": [
       "76.0"
      ]
     },
     "execution_count": 77,
     "metadata": {},
     "output_type": "execute_result"
    }
   ],
   "source": [
    "questao4.mean()"
   ]
  },
  {
   "cell_type": "code",
   "execution_count": 78,
   "metadata": {},
   "outputs": [
    {
     "name": "stdout",
     "output_type": "stream",
     "text": [
      "Cálculo da mediana:\n",
      "1. Quantidade par de elementos\n",
      "2. Elementos do meio: 85 e 88\n",
      "3. Média dos elementos do meio: 86.5\n"
     ]
    },
    {
     "data": {
      "text/plain": [
       "86.5"
      ]
     },
     "execution_count": 78,
     "metadata": {},
     "output_type": "execute_result"
    }
   ],
   "source": [
    "questao4.median()"
   ]
  },
  {
   "cell_type": "code",
   "execution_count": 79,
   "metadata": {},
   "outputs": [
    {
     "name": "stdout",
     "output_type": "stream",
     "text": [
      "Cálculo da moda:\n",
      "1. Frequências: {10: 1, 49: 1, 70: 1, 80: 1, 85: 1, 88: 1, 90: 1, 93: 1, 97: 1, 98: 1}\n",
      "2. Maior frequência: 1\n",
      "3. Moda: [10, 49, 70, 80, 85, 88, 90, 93, 97, 98] (número(s) com maior frequência)\n"
     ]
    },
    {
     "data": {
      "text/plain": [
       "[10, 49, 70, 80, 85, 88, 90, 93, 97, 98]"
      ]
     },
     "execution_count": 79,
     "metadata": {},
     "output_type": "execute_result"
    }
   ],
   "source": [
    "questao4.mode()"
   ]
  },
  {
   "cell_type": "markdown",
   "metadata": {},
   "source": [
    "### b. Existe concordância entre essas medidas de tendência central? Explique"
   ]
  },
  {
   "cell_type": "markdown",
   "metadata": {},
   "source": [
    "As medidas de tendência central nem sempre concordam entre si, especialmente em distribuições assimétricas ou com presença de outliers. Por exemplo, na Prova 4, há uma grande diferença entre a média e a mediana, o que sugere uma assimetria devido a valores extremos como a nota 10. Nas Provas 1 e 2, onde há modas claras, a média e a mediana são relativamente próximas, indicando uma menor assimetria."
   ]
  },
  {
   "cell_type": "markdown",
   "metadata": {},
   "source": [
    "### c. Para cada conjunto de dados, discuta as vantagens e desvantagens de cada medida de tendência central"
   ]
  },
  {
   "cell_type": "markdown",
   "metadata": {},
   "source": [
    "Média:\n",
    "\n",
    "Vantagens:\n",
    "- Leva em consideração todos os valores dos dados, oferecendo uma visão global do conjunto de dados.\n",
    "- É útil para comparações e análises estatísticas mais complexas.\n",
    "Desvantagens:\n",
    "- É sensível a valores extremos ou outliers, o que pode não representar adequadamente a distribuição dos dados.\n",
    "- Pode não refletir a realidade em distribuições altamente assimétricas.\n",
    "\n",
    "Mediana:\n",
    "\n",
    "Vantagens:\n",
    "- Não é afetada por outliers ou valores extremos, fornecendo uma medida mais robusta em distribuições assimétricas.\n",
    "- Representa o ponto central dos dados.\n",
    "Desvantagens:\n",
    "- Não leva em conta a magnitude dos valores, apenas a sua posição.\n",
    "Pode não capturar variações sutis na distribuição se muitos valores se acumularem em torno do centro.\n",
    "\n",
    "Moda:\n",
    "\n",
    "Vantagens:\n",
    "- Útil para dados categóricos onde a média e a mediana não podem ser definidas.\n",
    "- Indica o valor mais comum, o que pode ser relevante em certos contextos.\n",
    "Desvantagens:\n",
    "- Em conjuntos de dados sem repetições ou com múltiplas repetições, a moda pode ser inexistente ou não única, reduzindo sua utilidade.\n",
    "- Não reflete a distribuição dos dados além dos valores mais frequentes.\n",
    "Aplicando isso aos conjuntos de dados das provas:\n",
    "\n",
    "- Prova 1 e Prova 2: Têm modas claras, o que indica uma concentração de notas específicas. A média e a mediana estão relativamente alinhadas, refletindo menos assimetria. A moda é particularmente útil aqui para destacar a nota que muitos alunos conseguiram.\n",
    "\n",
    "- Prova 3: Apresenta uma assimetria à direita, o que pode tornar a média menos representativa do desempenho da maioria dos alunos do que a mediana ou a moda. No entanto, como há duas modas, isso sugere que há dois grupos distintos de desempenho.\n",
    "\n",
    "- Prova 4: Tem uma assimetria à esquerda significativa devido a uma nota muito baixa. A mediana é mais representativa do desempenho central dos alunos, enquanto a média é puxada para baixo por essa nota atípica. A falta de uma moda clara significa que não há uma nota que destaque como a mais comum.\n",
    "\n",
    "Em todos os casos, a escolha da medida de tendência central mais apropriada depende da forma da distribuição dos dados e do que se deseja entender ou comunicar sobre o conjunto de dados. Por exemplo, em distribuições assimétricas, a mediana pode ser preferível, enquanto em dados com uma moda clara, esta pode oferecer insights únicos sobre o comportamento mais frequente."
   ]
  },
  {
   "cell_type": "markdown",
   "metadata": {},
   "source": [
    "### d. Se os dados são simétricos ou assimétricos e em que direção"
   ]
  },
  {
   "cell_type": "markdown",
   "metadata": {},
   "source": [
    "#### Prova 1"
   ]
  },
  {
   "cell_type": "code",
   "execution_count": 80,
   "metadata": {},
   "outputs": [
    {
     "name": "stdout",
     "output_type": "stream",
     "text": [
      "Cálculo da média:\n",
      "1. Soma dos números: 650\n",
      "2. Quantidade de números: 9\n",
      "3. Média (soma / quantidade): 72.222\n",
      "Cálculo da mediana:\n",
      "1. Quantidade ímpar de elementos\n",
      "2. Elemento do meio (posição 4): 73\n",
      "Cálculo da moda:\n",
      "1. Frequências: {60: 3, 61: 1, 73: 1, 74: 1, 75: 1, 88: 1, 99: 1}\n",
      "2. Maior frequência: 3\n",
      "3. Moda: [60] (número(s) com maior frequência)\n",
      "Determinação da simetria:\n",
      "A distribuição pode não ser claramente simétrica ou assimétrica.\n",
      "Cálculo da média:\n",
      "1. Soma dos números: 650\n",
      "2. Quantidade de números: 9\n",
      "3. Média (soma / quantidade): 72.222\n",
      "Cálculo da variância:\n",
      "1. Média dos números: 72.22222222222223\n",
      "2. Somatório das diferenças quadradas: 1551.5555555555557\n",
      "3. Variância (somatório / quantidade): 172.395\n",
      "Cálculo do desvio padrão:\n",
      "1. Variância: 172.395\n",
      "2. Desvio padrão (raiz quadrada da variância): 13.13\n",
      "Cálculo da assimetria: 1.155\n"
     ]
    }
   ],
   "source": [
    "questao1.symmetry()\n",
    "questao1.skewness()"
   ]
  },
  {
   "cell_type": "markdown",
   "metadata": {},
   "source": [
    "#### Prova 2"
   ]
  },
  {
   "cell_type": "code",
   "execution_count": 81,
   "metadata": {},
   "outputs": [
    {
     "name": "stdout",
     "output_type": "stream",
     "text": [
      "Cálculo da média:\n",
      "1. Soma dos números: 720\n",
      "2. Quantidade de números: 10\n",
      "3. Média (soma / quantidade): 72.0\n",
      "Cálculo da mediana:\n",
      "1. Quantidade par de elementos\n",
      "2. Elementos do meio: 70 e 74\n",
      "3. Média dos elementos do meio: 72.0\n",
      "Cálculo da moda:\n",
      "1. Frequências: {65: 4, 70: 1, 74: 1, 79: 4}\n",
      "2. Maior frequência: 4\n",
      "3. Moda: [65, 79] (número(s) com maior frequência)\n",
      "Determinação da simetria:\n",
      "A distribuição pode não ser claramente simétrica ou assimétrica.\n",
      "Cálculo da média:\n",
      "1. Soma dos números: 720\n",
      "2. Quantidade de números: 10\n",
      "3. Média (soma / quantidade): 72.0\n",
      "Cálculo da variância:\n",
      "1. Média dos números: 72.0\n",
      "2. Somatório das diferenças quadradas: 400.0\n",
      "3. Variância (somatório / quantidade): 40.0\n",
      "Cálculo do desvio padrão:\n",
      "1. Variância: 40.0\n",
      "2. Desvio padrão (raiz quadrada da variância): 6.325\n",
      "Cálculo da assimetria: 0.0\n"
     ]
    }
   ],
   "source": [
    "questao2.symmetry()\n",
    "questao2.skewness()"
   ]
  },
  {
   "cell_type": "markdown",
   "metadata": {},
   "source": [
    "#### Prova 3"
   ]
  },
  {
   "cell_type": "code",
   "execution_count": 82,
   "metadata": {},
   "outputs": [
    {
     "name": "stdout",
     "output_type": "stream",
     "text": [
      "Cálculo da média:\n",
      "1. Soma dos números: 760\n",
      "2. Quantidade de números: 10\n",
      "3. Média (soma / quantidade): 76.0\n",
      "Cálculo da mediana:\n",
      "1. Quantidade par de elementos\n",
      "2. Elementos do meio: 72 e 72\n",
      "3. Média dos elementos do meio: 72.0\n",
      "Cálculo da moda:\n",
      "1. Frequências: {66: 1, 67: 1, 70: 1, 71: 1, 72: 2, 74: 2, 95: 1, 99: 1}\n",
      "2. Maior frequência: 2\n",
      "3. Moda: [72, 74] (número(s) com maior frequência)\n",
      "Determinação da simetria:\n",
      "A distribuição pode não ser claramente simétrica ou assimétrica.\n",
      "Cálculo da média:\n",
      "1. Soma dos números: 760\n",
      "2. Quantidade de números: 10\n",
      "3. Média (soma / quantidade): 76.0\n",
      "Cálculo da variância:\n",
      "1. Média dos números: 76.0\n",
      "2. Somatório das diferenças quadradas: 1172.0\n",
      "3. Variância (somatório / quantidade): 117.2\n",
      "Cálculo do desvio padrão:\n",
      "1. Variância: 117.2\n",
      "2. Desvio padrão (raiz quadrada da variância): 10.826\n",
      "Cálculo da assimetria: 1.84\n"
     ]
    }
   ],
   "source": [
    "questao3.symmetry()\n",
    "questao3.skewness()"
   ]
  },
  {
   "cell_type": "markdown",
   "metadata": {},
   "source": [
    "#### Prova 4"
   ]
  },
  {
   "cell_type": "code",
   "execution_count": 83,
   "metadata": {},
   "outputs": [
    {
     "name": "stdout",
     "output_type": "stream",
     "text": [
      "Cálculo da média:\n",
      "1. Soma dos números: 760\n",
      "2. Quantidade de números: 10\n",
      "3. Média (soma / quantidade): 76.0\n",
      "Cálculo da mediana:\n",
      "1. Quantidade par de elementos\n",
      "2. Elementos do meio: 85 e 88\n",
      "3. Média dos elementos do meio: 86.5\n",
      "Cálculo da moda:\n",
      "1. Frequências: {10: 1, 49: 1, 70: 1, 80: 1, 85: 1, 88: 1, 90: 1, 93: 1, 97: 1, 98: 1}\n",
      "2. Maior frequência: 1\n",
      "3. Moda: [10, 49, 70, 80, 85, 88, 90, 93, 97, 98] (número(s) com maior frequência)\n",
      "Determinação da simetria:\n",
      "A distribuição pode não ser claramente simétrica ou assimétrica.\n",
      "Cálculo da média:\n",
      "1. Soma dos números: 760\n",
      "2. Quantidade de números: 10\n",
      "3. Média (soma / quantidade): 76.0\n",
      "Cálculo da variância:\n",
      "1. Média dos números: 76.0\n",
      "2. Somatório das diferenças quadradas: 6772.0\n",
      "3. Variância (somatório / quantidade): 677.2\n",
      "Cálculo do desvio padrão:\n",
      "1. Variância: 677.2\n",
      "2. Desvio padrão (raiz quadrada da variância): 26.023\n",
      "Cálculo da assimetria: -2.186\n"
     ]
    }
   ],
   "source": [
    "questao4.symmetry()\n",
    "questao4.skewness()"
   ]
  },
  {
   "cell_type": "markdown",
   "metadata": {},
   "source": [
    "Aqui estão os valores de assimetria (skewness) para cada prova:\n",
    "\n",
    "- Prova 1: A assimetria é aproximadamente 0.798, indicando uma assimetria moderada à direita.\n",
    "\n",
    "- Prova 2: A assimetria é 0, sugerindo uma distribuição simétrica.\n",
    "\n",
    "- Prova 3: A assimetria é aproximadamente 1.325, indicando uma assimetria forte à direita.\n",
    "\n",
    "- Prova 4: A assimetria é aproximadamente -1.574, indicando uma assimetria forte à esquerda."
   ]
  },
  {
   "cell_type": "markdown",
   "metadata": {},
   "source": [
    "### e. Descreva e compare de forma breve o desempenho estudantil em cada prova."
   ]
  },
  {
   "cell_type": "markdown",
   "metadata": {},
   "source": [
    "- Prova 1: Os estudantes tiveram uma concentração de notas em torno de 60, com a média e mediana próximas dos 70s. Há uma tendência de notas mais altas que distorceu a distribuição para a direita.\n",
    "- Prova 2: Esta foi uma prova com desempenho muito consistente, refletido pela assimetria 0. As notas estão agrupadas em torno de duas pontuações, 65 e 79, o que sugere dois grupos de desempenho.\n",
    "- Prova 3: O desempenho foi geralmente bom, com a maioria dos alunos concentrados em torno da mediana de 72. No entanto, duas notas muito altas (95 e 99) criaram uma assimetria à direita, indicando alguns desempenhos excepcionais.\n",
    "- Prova 4: O desempenho foi variado, com uma mediana mais alta (86.5) em comparação às outras provas. A presença de uma nota extremamente baixa (10) criou uma assimetria à esquerda, indicando que a maioria dos alunos performou melhor do que a média.\n",
    "O desempenho estudantil, portanto, variou ao longo das provas. A Prova 2 mostra um desempenho mais uniforme, enquanto as outras provas exibem assimetrias que indicam variações no desempenho dos alunos. A Prova 4, em particular, tem uma variabilidade significativa, o que poderia ser investigado para entender melhor o que levou a essa discrepância nos resultados. "
   ]
  },
  {
   "cell_type": "markdown",
   "metadata": {},
   "source": [
    "## 7. O CitiBank registrou o número de clientes que usaram um caixa eletrônico em uma agência central, durante o horário de almoço, em 32 dias úteis consecutivos.\n",
    "\n",
    "[25, 37, 23, 26, 30, 40, 25, 26, 39, 32, 21, 26, 19, 27, 32, 25, 18, 26, 34, 18, 31, 35, 21, 33, 33, 9, 16, 32, 35, 42, 15, 24]\n"
   ]
  },
  {
   "cell_type": "markdown",
   "metadata": {},
   "source": [
    "### a. Encontre a média, a mediana e a moda"
   ]
  },
  {
   "cell_type": "code",
   "execution_count": 84,
   "metadata": {},
   "outputs": [],
   "source": [
    "data = [25, 37, 23, 26, 30, 40, 25, 26, 39, 32, 21, 26, 19, 27, 32, 25, 18, 26, 34, 18, 31, 35, 21, 33, 33, 9, 16, 32, 35, 42, 15, 24] \n",
    "questao = EstatisticaDescritiva(data)"
   ]
  },
  {
   "cell_type": "code",
   "execution_count": 85,
   "metadata": {},
   "outputs": [
    {
     "data": {
      "text/plain": [
       "[9,\n",
       " 15,\n",
       " 16,\n",
       " 18,\n",
       " 18,\n",
       " 19,\n",
       " 21,\n",
       " 21,\n",
       " 23,\n",
       " 24,\n",
       " 25,\n",
       " 25,\n",
       " 25,\n",
       " 26,\n",
       " 26,\n",
       " 26,\n",
       " 26,\n",
       " 27,\n",
       " 30,\n",
       " 31,\n",
       " 32,\n",
       " 32,\n",
       " 32,\n",
       " 33,\n",
       " 33,\n",
       " 34,\n",
       " 35,\n",
       " 35,\n",
       " 37,\n",
       " 39,\n",
       " 40,\n",
       " 42]"
      ]
     },
     "execution_count": 85,
     "metadata": {},
     "output_type": "execute_result"
    }
   ],
   "source": [
    "questao.order_list()"
   ]
  },
  {
   "cell_type": "code",
   "execution_count": 86,
   "metadata": {},
   "outputs": [
    {
     "name": "stdout",
     "output_type": "stream",
     "text": [
      "Cálculo da média:\n",
      "1. Soma dos números: 875\n",
      "2. Quantidade de números: 32\n",
      "3. Média (soma / quantidade): 27.344\n"
     ]
    },
    {
     "data": {
      "text/plain": [
       "27.344"
      ]
     },
     "execution_count": 86,
     "metadata": {},
     "output_type": "execute_result"
    }
   ],
   "source": [
    "questao.mean()"
   ]
  },
  {
   "cell_type": "code",
   "execution_count": 87,
   "metadata": {},
   "outputs": [
    {
     "name": "stdout",
     "output_type": "stream",
     "text": [
      "Cálculo da mediana:\n",
      "1. Quantidade par de elementos\n",
      "2. Elementos do meio: 26 e 26\n",
      "3. Média dos elementos do meio: 26.0\n"
     ]
    },
    {
     "data": {
      "text/plain": [
       "26.0"
      ]
     },
     "execution_count": 87,
     "metadata": {},
     "output_type": "execute_result"
    }
   ],
   "source": [
    "questao.median()"
   ]
  },
  {
   "cell_type": "code",
   "execution_count": 88,
   "metadata": {},
   "outputs": [
    {
     "name": "stdout",
     "output_type": "stream",
     "text": [
      "Cálculo da moda:\n",
      "1. Frequências: {9: 1, 15: 1, 16: 1, 18: 2, 19: 1, 21: 2, 23: 1, 24: 1, 25: 3, 26: 4, 27: 1, 30: 1, 31: 1, 32: 3, 33: 2, 34: 1, 35: 2, 37: 1, 39: 1, 40: 1, 42: 1}\n",
      "2. Maior frequência: 4\n",
      "3. Moda: [26] (número(s) com maior frequência)\n"
     ]
    },
    {
     "data": {
      "text/plain": [
       "[26]"
      ]
     },
     "execution_count": 88,
     "metadata": {},
     "output_type": "execute_result"
    }
   ],
   "source": [
    "questao.mode()"
   ]
  },
  {
   "cell_type": "markdown",
   "metadata": {},
   "source": [
    "### b. Existe concordância entre essas medidas de tendência central? Explique"
   ]
  },
  {
   "cell_type": "markdown",
   "metadata": {},
   "source": [
    "Há uma concordância razoável entre as medidas de tendência central. A mediana e a moda são iguais (26), e a média é ligeiramente maior (27.34). Isso sugere que os dados podem ter uma leve assimetria à direita, já que a média é puxada para cima pelos valores mais altos.\n",
    "\n"
   ]
  },
  {
   "cell_type": "markdown",
   "metadata": {},
   "source": [
    "### c. Elabore um histograma ou um gráfico de pontos"
   ]
  },
  {
   "cell_type": "code",
   "execution_count": 89,
   "metadata": {},
   "outputs": [
    {
     "data": {
      "image/png": "[encoded data removed]",
      "text/plain": [
       "<Figure size 1000x600 with 1 Axes>"
      ]
     },
     "metadata": {},
     "output_type": "display_data"
    }
   ],
   "source": [
    "questao.histogram()"
   ]
  },
  {
   "cell_type": "markdown",
   "metadata": {},
   "source": [
    "### d. Os dados são simétricos ou assimétricos? Se assimétricos, em qual direção?"
   ]
  },
  {
   "cell_type": "code",
   "execution_count": 90,
   "metadata": {},
   "outputs": [
    {
     "name": "stdout",
     "output_type": "stream",
     "text": [
      "Cálculo da média:\n",
      "1. Soma dos números: 875\n",
      "2. Quantidade de números: 32\n",
      "3. Média (soma / quantidade): 27.344\n",
      "Cálculo da mediana:\n",
      "1. Quantidade par de elementos\n",
      "2. Elementos do meio: 26 e 26\n",
      "3. Média dos elementos do meio: 26.0\n",
      "Cálculo da moda:\n",
      "1. Frequências: {9: 1, 15: 1, 16: 1, 18: 2, 19: 1, 21: 2, 23: 1, 24: 1, 25: 3, 26: 4, 27: 1, 30: 1, 31: 1, 32: 3, 33: 2, 34: 1, 35: 2, 37: 1, 39: 1, 40: 1, 42: 1}\n",
      "2. Maior frequência: 4\n",
      "3. Moda: [26] (número(s) com maior frequência)\n",
      "Determinação da simetria:\n",
      "A distribuição pode não ser claramente simétrica ou assimétrica.\n",
      "Cálculo da média:\n",
      "1. Soma dos números: 875\n",
      "2. Quantidade de números: 32\n",
      "3. Média (soma / quantidade): 27.344\n",
      "Cálculo da variância:\n",
      "1. Média dos números: 27.34375\n",
      "2. Somatório das diferenças quadradas: 1911.21875\n",
      "3. Variância (somatório / quantidade): 59.726\n",
      "Cálculo do desvio padrão:\n",
      "1. Variância: 59.726\n",
      "2. Desvio padrão (raiz quadrada da variância): 7.728\n",
      "Cálculo da assimetria: -0.21\n"
     ]
    }
   ],
   "source": [
    "questao.symmetry()\n",
    "questao.skewness()"
   ]
  },
  {
   "cell_type": "markdown",
   "metadata": {},
   "source": [
    "## 8. Em uma sexta-feira à noite, os proprietários do restaurante Chez Pierre na região central de Chicago anotaram o valor gasto em 28 mesas de quatro pessoas.\n",
    "\n",
    "[95, 103, 109, 170, 114, 113, 107, 124, 105, 80, 104, 84, 176, 115, 69, 95, 134, 108, 61, 160, 128, 68, 95, 61, 150, 52, 87, 136]"
   ]
  },
  {
   "cell_type": "markdown",
   "metadata": {},
   "source": [
    "### a. Encontre a média, a mediana e a moda"
   ]
  },
  {
   "cell_type": "code",
   "execution_count": 91,
   "metadata": {},
   "outputs": [],
   "source": [
    "data = [95, 103, 109, 170, 114, 113, 107, 124, 105, 80, 104, 84, 176, 115, 69, 95, 134, 108, 61, 160, 128, 68, 95, 61, 150, 52, 87, 136] \n",
    "questao = EstatisticaDescritiva(data)"
   ]
  },
  {
   "cell_type": "code",
   "execution_count": 92,
   "metadata": {},
   "outputs": [
    {
     "data": {
      "text/plain": [
       "[52,\n",
       " 61,\n",
       " 61,\n",
       " 68,\n",
       " 69,\n",
       " 80,\n",
       " 84,\n",
       " 87,\n",
       " 95,\n",
       " 95,\n",
       " 95,\n",
       " 103,\n",
       " 104,\n",
       " 105,\n",
       " 107,\n",
       " 108,\n",
       " 109,\n",
       " 113,\n",
       " 114,\n",
       " 115,\n",
       " 124,\n",
       " 128,\n",
       " 134,\n",
       " 136,\n",
       " 150,\n",
       " 160,\n",
       " 170,\n",
       " 176]"
      ]
     },
     "execution_count": 92,
     "metadata": {},
     "output_type": "execute_result"
    }
   ],
   "source": [
    "questao.order_list()"
   ]
  },
  {
   "cell_type": "code",
   "execution_count": 93,
   "metadata": {},
   "outputs": [
    {
     "name": "stdout",
     "output_type": "stream",
     "text": [
      "Cálculo da média:\n",
      "1. Soma dos números: 3003\n",
      "2. Quantidade de números: 28\n",
      "3. Média (soma / quantidade): 107.25\n"
     ]
    },
    {
     "data": {
      "text/plain": [
       "107.25"
      ]
     },
     "execution_count": 93,
     "metadata": {},
     "output_type": "execute_result"
    }
   ],
   "source": [
    "questao.mean()"
   ]
  },
  {
   "cell_type": "code",
   "execution_count": 94,
   "metadata": {},
   "outputs": [
    {
     "name": "stdout",
     "output_type": "stream",
     "text": [
      "Cálculo da mediana:\n",
      "1. Quantidade par de elementos\n",
      "2. Elementos do meio: 105 e 107\n",
      "3. Média dos elementos do meio: 106.0\n"
     ]
    },
    {
     "data": {
      "text/plain": [
       "106.0"
      ]
     },
     "execution_count": 94,
     "metadata": {},
     "output_type": "execute_result"
    }
   ],
   "source": [
    "questao.median()"
   ]
  },
  {
   "cell_type": "code",
   "execution_count": 95,
   "metadata": {},
   "outputs": [
    {
     "name": "stdout",
     "output_type": "stream",
     "text": [
      "Cálculo da moda:\n",
      "1. Frequências: {52: 1, 61: 2, 68: 1, 69: 1, 80: 1, 84: 1, 87: 1, 95: 3, 103: 1, 104: 1, 105: 1, 107: 1, 108: 1, 109: 1, 113: 1, 114: 1, 115: 1, 124: 1, 128: 1, 134: 1, 136: 1, 150: 1, 160: 1, 170: 1, 176: 1}\n",
      "2. Maior frequência: 3\n",
      "3. Moda: [95] (número(s) com maior frequência)\n"
     ]
    },
    {
     "data": {
      "text/plain": [
       "[95]"
      ]
     },
     "execution_count": 95,
     "metadata": {},
     "output_type": "execute_result"
    }
   ],
   "source": [
    "questao.mode()"
   ]
  },
  {
   "cell_type": "markdown",
   "metadata": {},
   "source": [
    "### b. Existe concordância entre essas medidas de tendência central? Explique"
   ]
  },
  {
   "cell_type": "markdown",
   "metadata": {},
   "source": [
    "A média e a mediana são bastante próximas uma da outra, o que geralmente indica uma distribuição de dados relativamente simétrica. No entanto, a moda é significativamente menor do que as outras duas medidas. Isso pode ocorrer em uma distribuição que é levemente assimétrica, onde um valor específico ocorre com mais frequência do que outros, mas não chega a ser um outlier que distorce a média.\n",
    "\n",
    "A presença de uma moda distinta, neste caso 95, sugere que esse valor de gasto foi o mais comum entre as mesas do restaurante. Entretanto, o fato de a média e a mediana serem maiores do que a moda pode indicar que há valores mais altos de gastos que estão puxando a média para cima, enquanto a maioria das mesas gasta em torno de 95 ou um pouco mais.\n",
    "\n",
    "Em resumo, existe uma certa concordância entre a média e a mediana, o que sugere que não há uma grande distorção na distribuição dos dados. No entanto, a moda é diferente das outras medidas, o que é comum em muitas distribuições reais, especialmente quando há um valor que aparece com uma frequência especialmente alta. Portanto, todas as três medidas oferecem insights válidos sobre os dados, mas capturam aspectos ligeiramente diferentes da tendência central."
   ]
  },
  {
   "cell_type": "markdown",
   "metadata": {},
   "source": [
    "### c. Elabore um histograma ou um gráfico de pontos"
   ]
  },
  {
   "cell_type": "code",
   "execution_count": 96,
   "metadata": {},
   "outputs": [
    {
     "data": {
      "image/png": "[encoded data removed]",
      "text/plain": [
       "<Figure size 1000x600 with 1 Axes>"
      ]
     },
     "metadata": {},
     "output_type": "display_data"
    }
   ],
   "source": [
    "questao.histogram()"
   ]
  },
  {
   "cell_type": "markdown",
   "metadata": {},
   "source": [
    "### d. Os dados são simétricos ou assimétricos? Se assimétricos, em qual direção?"
   ]
  },
  {
   "cell_type": "code",
   "execution_count": 97,
   "metadata": {},
   "outputs": [
    {
     "name": "stdout",
     "output_type": "stream",
     "text": [
      "Cálculo da média:\n",
      "1. Soma dos números: 3003\n",
      "2. Quantidade de números: 28\n",
      "3. Média (soma / quantidade): 107.25\n",
      "Cálculo da mediana:\n",
      "1. Quantidade par de elementos\n",
      "2. Elementos do meio: 105 e 107\n",
      "3. Média dos elementos do meio: 106.0\n",
      "Cálculo da moda:\n",
      "1. Frequências: {52: 1, 61: 2, 68: 1, 69: 1, 80: 1, 84: 1, 87: 1, 95: 3, 103: 1, 104: 1, 105: 1, 107: 1, 108: 1, 109: 1, 113: 1, 114: 1, 115: 1, 124: 1, 128: 1, 134: 1, 136: 1, 150: 1, 160: 1, 170: 1, 176: 1}\n",
      "2. Maior frequência: 3\n",
      "3. Moda: [95] (número(s) com maior frequência)\n",
      "Determinação da simetria:\n",
      "A distribuição é assimétrica para a direita (positiva).\n",
      "Cálculo da média:\n",
      "1. Soma dos números: 3003\n",
      "2. Quantidade de números: 28\n",
      "3. Média (soma / quantidade): 107.25\n",
      "Cálculo da variância:\n",
      "1. Média dos números: 107.25\n",
      "2. Somatório das diferenças quadradas: 28181.25\n",
      "3. Variância (somatório / quantidade): 1006.473\n",
      "Cálculo do desvio padrão:\n",
      "1. Variância: 1006.473\n",
      "2. Desvio padrão (raiz quadrada da variância): 31.725\n",
      "Cálculo da assimetria: 0.406\n"
     ]
    }
   ],
   "source": [
    "questao.symmetry()\n",
    "questao.skewness()"
   ]
  },
  {
   "cell_type": "markdown",
   "metadata": {},
   "source": [
    "## 9. Os registros telefônicos de um executivo mostraram a duração de 65 chamadas iniciadas durante a última semana de julho.\n",
    "\n",
    "[1, 2, 10, 5, 3, 3, 2, 20, 1, 1, 6, 3, 13, 2, 2, 1, 26, 3, 1, 3, 1, 2, 1, 7, 1, 2, 3, 1, 2, 12, 1, 4, 2, 2, 29, 1, 1, 1, 8, 5, 1, 4, 2, 1, 1, 1, 1, 6, 1, 2, 3, 3, 6, 1, 3, 1, 1, 5, 1, 18, 2, 13, 13, 1, 6]\n"
   ]
  },
  {
   "cell_type": "markdown",
   "metadata": {},
   "source": [
    "### a. Ordene os dados"
   ]
  },
  {
   "cell_type": "code",
   "execution_count": 98,
   "metadata": {},
   "outputs": [],
   "source": [
    "data = [1, 2, 10, 5, 3, 3, 2, 20, 1, 1, 6, 3, 13, 2, 2, 1, 26, 3, 1, 3, 1, 2, 1, 7, 1, 2, 3, 1, 2, 12, 1, 4, 2, 2, 29, 1, 1, 1, 8, 5, 1, 4, 2, 1, 1, 1, 1, 6, 1, 2, 3, 3, 6, 1, 3, 1, 1, 5, 1, 18, 2, 13, 13, 1, 6] \n",
    "questao = EstatisticaDescritiva(data)"
   ]
  },
  {
   "cell_type": "code",
   "execution_count": 99,
   "metadata": {},
   "outputs": [
    {
     "data": {
      "text/plain": [
       "[1,\n",
       " 1,\n",
       " 1,\n",
       " 1,\n",
       " 1,\n",
       " 1,\n",
       " 1,\n",
       " 1,\n",
       " 1,\n",
       " 1,\n",
       " 1,\n",
       " 1,\n",
       " 1,\n",
       " 1,\n",
       " 1,\n",
       " 1,\n",
       " 1,\n",
       " 1,\n",
       " 1,\n",
       " 1,\n",
       " 1,\n",
       " 1,\n",
       " 1,\n",
       " 1,\n",
       " 2,\n",
       " 2,\n",
       " 2,\n",
       " 2,\n",
       " 2,\n",
       " 2,\n",
       " 2,\n",
       " 2,\n",
       " 2,\n",
       " 2,\n",
       " 2,\n",
       " 2,\n",
       " 3,\n",
       " 3,\n",
       " 3,\n",
       " 3,\n",
       " 3,\n",
       " 3,\n",
       " 3,\n",
       " 3,\n",
       " 3,\n",
       " 4,\n",
       " 4,\n",
       " 5,\n",
       " 5,\n",
       " 5,\n",
       " 6,\n",
       " 6,\n",
       " 6,\n",
       " 6,\n",
       " 7,\n",
       " 8,\n",
       " 10,\n",
       " 12,\n",
       " 13,\n",
       " 13,\n",
       " 13,\n",
       " 18,\n",
       " 20,\n",
       " 26,\n",
       " 29]"
      ]
     },
     "execution_count": 99,
     "metadata": {},
     "output_type": "execute_result"
    }
   ],
   "source": [
    "questao.order_list()"
   ]
  },
  {
   "cell_type": "markdown",
   "metadata": {},
   "source": [
    "### b. Encontre a média, a mediana e a moda"
   ]
  },
  {
   "cell_type": "code",
   "execution_count": 100,
   "metadata": {},
   "outputs": [
    {
     "name": "stdout",
     "output_type": "stream",
     "text": [
      "Cálculo da média:\n",
      "1. Soma dos números: 291\n",
      "2. Quantidade de números: 65\n",
      "3. Média (soma / quantidade): 4.477\n"
     ]
    },
    {
     "data": {
      "text/plain": [
       "4.477"
      ]
     },
     "execution_count": 100,
     "metadata": {},
     "output_type": "execute_result"
    }
   ],
   "source": [
    "questao.mean()"
   ]
  },
  {
   "cell_type": "code",
   "execution_count": 101,
   "metadata": {},
   "outputs": [
    {
     "name": "stdout",
     "output_type": "stream",
     "text": [
      "Cálculo da mediana:\n",
      "1. Quantidade ímpar de elementos\n",
      "2. Elemento do meio (posição 32): 2\n"
     ]
    },
    {
     "data": {
      "text/plain": [
       "2"
      ]
     },
     "execution_count": 101,
     "metadata": {},
     "output_type": "execute_result"
    }
   ],
   "source": [
    "questao.median()"
   ]
  },
  {
   "cell_type": "code",
   "execution_count": 102,
   "metadata": {},
   "outputs": [
    {
     "name": "stdout",
     "output_type": "stream",
     "text": [
      "Cálculo da moda:\n",
      "1. Frequências: {1: 24, 2: 12, 3: 9, 4: 2, 5: 3, 6: 4, 7: 1, 8: 1, 10: 1, 12: 1, 13: 3, 18: 1, 20: 1, 26: 1, 29: 1}\n",
      "2. Maior frequência: 24\n",
      "3. Moda: [1] (número(s) com maior frequência)\n"
     ]
    },
    {
     "data": {
      "text/plain": [
       "[1]"
      ]
     },
     "execution_count": 102,
     "metadata": {},
     "output_type": "execute_result"
    }
   ],
   "source": [
    "questao.mode()"
   ]
  },
  {
   "cell_type": "markdown",
   "metadata": {},
   "source": [
    "### c. Existe concordância entre essas medidas de tendência central? Explique"
   ]
  },
  {
   "cell_type": "markdown",
   "metadata": {},
   "source": [
    "A média, que representa a duração média das chamadas, é maior que a mediana e a moda. Isso ocorre porque a média é influenciada por valores extremamente altos ou baixos na distribuição dos dados, neste caso, algumas chamadas com durações significativamente longas, como 26 e 29 minutos, elevam a média.\n",
    "\n",
    "A mediana, que é o valor do meio quando os dados são ordenados, é 2 minutos. Ela não é tão influenciada por valores extremos como a média, indicando que metade das chamadas tem duração de 2 minutos ou menos.\n",
    "\n",
    "A moda é o valor que ocorre com maior frequência nos dados, que é 1 minuto, indicando que a duração mais comum das chamadas é de 1 minuto.\n",
    "\n",
    "A falta de concordância entre essas medidas sugere uma distribuição assimétrica, provavelmente inclinada para a direita (positivamente assimétrica), onde a maioria das chamadas é de curta duração, mas há algumas chamadas muito longas que afetam a média. Isso mostra como diferentes medidas de tendência central podem oferecer perspectivas variadas sobre a mesma coleção de dados."
   ]
  },
  {
   "cell_type": "markdown",
   "metadata": {},
   "source": [
    "### d. Os dados são simétricos ou assimétricos? Se assimétricos, em qual direção?"
   ]
  },
  {
   "cell_type": "code",
   "execution_count": 103,
   "metadata": {},
   "outputs": [
    {
     "name": "stdout",
     "output_type": "stream",
     "text": [
      "Cálculo da média:\n",
      "1. Soma dos números: 291\n",
      "2. Quantidade de números: 65\n",
      "3. Média (soma / quantidade): 4.477\n",
      "Cálculo da mediana:\n",
      "1. Quantidade ímpar de elementos\n",
      "2. Elemento do meio (posição 32): 2\n",
      "Cálculo da moda:\n",
      "1. Frequências: {1: 24, 2: 12, 3: 9, 4: 2, 5: 3, 6: 4, 7: 1, 8: 1, 10: 1, 12: 1, 13: 3, 18: 1, 20: 1, 26: 1, 29: 1}\n",
      "2. Maior frequência: 24\n",
      "3. Moda: [1] (número(s) com maior frequência)\n",
      "Determinação da simetria:\n",
      "A distribuição é assimétrica para a direita (positiva).\n",
      "Cálculo da média:\n",
      "1. Soma dos números: 291\n",
      "2. Quantidade de números: 65\n",
      "3. Média (soma / quantidade): 4.477\n",
      "Cálculo da variância:\n",
      "1. Média dos números: 4.476923076923077\n",
      "2. Somatório das diferenças quadradas: 2206.215384615384\n",
      "3. Variância (somatório / quantidade): 33.942\n",
      "Cálculo do desvio padrão:\n",
      "1. Variância: 33.942\n",
      "2. Desvio padrão (raiz quadrada da variância): 5.826\n",
      "Cálculo da assimetria: 2.628\n"
     ]
    }
   ],
   "source": [
    "questao.symmetry()\n",
    "questao.skewness()"
   ]
  },
  {
   "cell_type": "markdown",
   "metadata": {},
   "source": [
    "## 10. A cidade de Sonando Hills conta com 8 policiais. Em janeiro, as despesas médicas relacionadas ao trabalho de cada um desses servidores foram de 0, 0, 0, 0, 0, 150, 650."
   ]
  },
  {
   "cell_type": "markdown",
   "metadata": {},
   "source": [
    "### a. Calcule a média, a mediana, a moda, a semi-amplitude e a média geométrica"
   ]
  },
  {
   "cell_type": "code",
   "execution_count": 104,
   "metadata": {},
   "outputs": [
    {
     "data": {
      "text/plain": [
       "[0, 0, 0, 150, 650]"
      ]
     },
     "execution_count": 104,
     "metadata": {},
     "output_type": "execute_result"
    }
   ],
   "source": [
    "data = [0, 0, 0, 150, 650] \n",
    "questao = EstatisticaDescritiva(data)\n",
    "questao.order_list()"
   ]
  },
  {
   "cell_type": "code",
   "execution_count": 105,
   "metadata": {},
   "outputs": [
    {
     "name": "stdout",
     "output_type": "stream",
     "text": [
      "Cálculo da média:\n",
      "1. Soma dos números: 800\n",
      "2. Quantidade de números: 5\n",
      "3. Média (soma / quantidade): 160.0\n"
     ]
    },
    {
     "data": {
      "text/plain": [
       "160.0"
      ]
     },
     "execution_count": 105,
     "metadata": {},
     "output_type": "execute_result"
    }
   ],
   "source": [
    "questao.mean()"
   ]
  },
  {
   "cell_type": "code",
   "execution_count": 106,
   "metadata": {},
   "outputs": [
    {
     "name": "stdout",
     "output_type": "stream",
     "text": [
      "Cálculo da mediana:\n",
      "1. Quantidade ímpar de elementos\n",
      "2. Elemento do meio (posição 2): 0\n"
     ]
    },
    {
     "data": {
      "text/plain": [
       "0"
      ]
     },
     "execution_count": 106,
     "metadata": {},
     "output_type": "execute_result"
    }
   ],
   "source": [
    "questao.median()"
   ]
  },
  {
   "cell_type": "code",
   "execution_count": 107,
   "metadata": {},
   "outputs": [
    {
     "name": "stdout",
     "output_type": "stream",
     "text": [
      "Cálculo da moda:\n",
      "1. Frequências: {0: 3, 150: 1, 650: 1}\n",
      "2. Maior frequência: 3\n",
      "3. Moda: [0] (número(s) com maior frequência)\n"
     ]
    },
    {
     "data": {
      "text/plain": [
       "[0]"
      ]
     },
     "execution_count": 107,
     "metadata": {},
     "output_type": "execute_result"
    }
   ],
   "source": [
    "questao.mode()"
   ]
  },
  {
   "cell_type": "code",
   "execution_count": 108,
   "metadata": {},
   "outputs": [
    {
     "name": "stdout",
     "output_type": "stream",
     "text": [
      "Cálculo da semi-amplitude:\n",
      "1. Valor máximo: 650\n",
      "2. Valor mínimo: 0\n",
      "3. Semi-amplitude: 325.0\n"
     ]
    },
    {
     "data": {
      "text/plain": [
       "325.0"
      ]
     },
     "execution_count": 108,
     "metadata": {},
     "output_type": "execute_result"
    }
   ],
   "source": [
    "questao.semi_range()"
   ]
  },
  {
   "cell_type": "code",
   "execution_count": 109,
   "metadata": {},
   "outputs": [
    {
     "name": "stdout",
     "output_type": "stream",
     "text": [
      "Cálculo da média geométrica:\n",
      "1. Produto dos números: 0\n",
      "2. Quantidade de números: 5\n",
      "3. Média geométrica: 0.0\n"
     ]
    },
    {
     "data": {
      "text/plain": [
       "0.0"
      ]
     },
     "execution_count": 109,
     "metadata": {},
     "output_type": "execute_result"
    }
   ],
   "source": [
    "questao.geometric_mean()"
   ]
  },
  {
   "cell_type": "markdown",
   "metadata": {},
   "source": [
    "### b. Qual medida de tendência central você usaria para prever o valor gasto em despesas médicas por todos os policiais para o ano todo? "
   ]
  },
  {
   "cell_type": "markdown",
   "metadata": {},
   "source": [
    "Para prever o valor gasto em despesas médicas para todos os policiais para o ano todo, devemos considerar a medida de tendência central que melhor representa a distribuição dos dados e é menos afetada por valores extremos.\n",
    "\n",
    "A média é significativamente influenciada pelos valores extremos (150 e 650) e pode não ser representativa se tais valores forem atípicos ou não regulares. A mediana e a moda são 0, indicando que a maioria dos policiais não teve despesas médicas, o que também pode não ser útil para previsão ao longo de um ano, especialmente se esperamos que alguns tenham despesas.\n",
    "\n",
    "Nesse caso, uma medida robusta poderia ser mais apropriada. A mediana, sendo 0, não ajuda na previsão de despesas futuras, pois não reflete os valores atípicos que poderiam ser esperados ao longo do ano. A média é sensível a esses valores atípicos, mas ela pode superestimar as despesas se esses valores não forem regulares.\n",
    "\n",
    "Considerando a natureza das despesas médicas, onde alguns meses podem ter gastos altos devido a eventos incomuns (como acidentes), enquanto a maioria dos meses pode ter gastos baixos ou nenhum gasto, poderíamos considerar usar uma medida como a média aparada ou mediana de despesas positivas, para evitar a distorção causada pelos muitos zeros e pelos valores atípicos.\n",
    "\n",
    "No entanto, a decisão sobre qual medida usar dependeria de mais contexto sobre a natureza das despesas médicas e da distribuição dos custos ao longo do tempo. Se os eventos que causaram as despesas altas são esperados para ocorrer regularmente, a média pode ser apropriada; se eles são muito atípicos, uma média aparada ou mesmo uma abordagem de modelagem preditiva mais sofisticada poderia ser mais adequada."
   ]
  },
  {
   "cell_type": "markdown",
   "metadata": {},
   "source": [
    "## 11."
   ]
  },
  {
   "cell_type": "markdown",
   "metadata": {},
   "source": [
    "## 12."
   ]
  },
  {
   "cell_type": "markdown",
   "metadata": {},
   "source": [
    "## 13."
   ]
  },
  {
   "cell_type": "markdown",
   "metadata": {},
   "source": [
    "## 14."
   ]
  },
  {
   "cell_type": "markdown",
   "metadata": {},
   "source": [
    "## 15."
   ]
  },
  {
   "cell_type": "markdown",
   "metadata": {},
   "source": [
    "## 16."
   ]
  },
  {
   "cell_type": "markdown",
   "metadata": {},
   "source": [
    "## 17."
   ]
  },
  {
   "cell_type": "markdown",
   "metadata": {},
   "source": [
    "## 18."
   ]
  },
  {
   "cell_type": "markdown",
   "metadata": {},
   "source": [
    "## 19."
   ]
  },
  {
   "cell_type": "markdown",
   "metadata": {},
   "source": [
    "## 20."
   ]
  },
  {
   "cell_type": "markdown",
   "metadata": {},
   "source": [
    "## 21."
   ]
  },
  {
   "cell_type": "markdown",
   "metadata": {},
   "source": [
    "## 22."
   ]
  },
  {
   "cell_type": "markdown",
   "metadata": {},
   "source": []
  }
 ],
 "metadata": {
  "kernelspec": {
   "display_name": ".venv",
   "language": "python",
   "name": "python3"
  },
  "language_info": {
   "codemirror_mode": {
    "name": "ipython",
    "version": 3
   },
   "file_extension": ".py",
   "mimetype": "text/x-python",
   "name": "python",
   "nbconvert_exporter": "python",
   "pygments_lexer": "ipython3",
   "version": "3.11.8"
  }
 },
 "nbformat": 4,
 "nbformat_minor": 2
}
